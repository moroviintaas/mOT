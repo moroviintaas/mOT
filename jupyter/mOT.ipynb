{
 "cells": [
  {
   "cell_type": "markdown",
   "metadata": {},
   "source": [
    "# Okamoto-Tanaka Revisited protocol\n"
   ]
  },
  {
   "cell_type": "code",
   "execution_count": 1,
   "metadata": {},
   "outputs": [],
   "source": [
    "import random\n",
    "from cryptography.hazmat.primitives.asymmetric import rsa\n",
    "from cryptography.hazmat.backends import default_backend\n",
    "from cryptography.hazmat.primitives import hashes\n",
    "import math\n",
    "\n",
    "KEY_SIZE = 512\n",
    "H1_EXPONENT_SIZE = 256\n",
    "SESSION_KEY_SIZE = 128\n",
    "EPHEMERAL_EXPONENT_SIZE = 256\n",
    "ID_SIZE = 256\n",
    "ENDIAN = \"little\"\n"
   ]
  },
  {
   "cell_type": "code",
   "execution_count": 2,
   "metadata": {},
   "outputs": [],
   "source": [
    "#dobór funkcji haschującej\n",
    "def select_SHA_context(length_in_bits):\n",
    "    if length_in_bits <= 224:\n",
    "        return hashes.SHA224()\n",
    "    elif length_in_bits <= 256:\n",
    "        return hashes.SHA256()\n",
    "    elif length_in_bits <= 384:\n",
    "        return hashes.SHA384()\n",
    "    elif length_in_bits <= 512:\n",
    "        return hashes.SHA512()\n",
    "    else:\n",
    "        #TODO Exception\n",
    "        print(\"Error, output to big for now\")\n",
    "\n",
    "#hf_KGC = select_SHA_context(H1_EXPONENT_SIZE)\n",
    "#hf_USER = select_SHA_context(SESSION_KEY_SIZE)\n"
   ]
  },
  {
   "cell_type": "code",
   "execution_count": 3,
   "metadata": {},
   "outputs": [],
   "source": [
    "def eea(_a,_b):\n",
    "    u1 = 1\n",
    "    v1 = 0\n",
    "    u2 = 0\n",
    "    v2 = 1\n",
    "    if _a < 1 or _b < 1:\n",
    "        return \"Error\"\n",
    "    \n",
    "    if _b>_a:\n",
    "        a = _b\n",
    "        b = _a\n",
    "    else:\n",
    "        a = _a\n",
    "        b = _b\n",
    "    r = _b\n",
    "    while r!=0:\n",
    "        g = r\n",
    "        q = a//b\n",
    "        \n",
    "        r = a - (q*b)   \n",
    "        u = u1 - (q*u2)\n",
    "        v = v1 - (q*v2)\n",
    "        u1 = u2\n",
    "        v1 = v2\n",
    "        u2 = u\n",
    "        v2 = v\n",
    "        \n",
    "        a = b\n",
    "        b = r\n",
    "        \n",
    "        #print(q,r,u,v)\n",
    "    return (a, u1, v1)\n",
    "\n",
    "#print(eea(77, 11))\n",
    "#print(eea(62, 7))"
   ]
  },
  {
   "cell_type": "code",
   "execution_count": null,
   "metadata": {},
   "outputs": [],
   "source": []
  },
  {
   "cell_type": "markdown",
   "metadata": {},
   "source": [
    "## Generacja klucza\n",
    "\n",
    "### Generacja klucza RSA dla KGC:"
   ]
  },
  {
   "cell_type": "code",
   "execution_count": 4,
   "metadata": {},
   "outputs": [
    {
     "name": "stdout",
     "output_type": "stream",
     "text": [
      "0xa6a91af51a7b2100995a44ae3c9b31aabfb676dd23c8c67f4432d4f1dca9ee8011e5cfcb28ba255ba74b4476a04bbeefd29b4682d5c386e8001ec5150a0e4121\n",
      "0x00000000000000000000000000000000000000000000000000000000000000000000000000000000000000000000000000000000000000000000000000010001\n",
      "0x57aa3214e59608f910b16bd91ee61f8d0a850727319085e121d57f2fadfbf108b11799aeeb4119ee261811ee7599596ed38b2b89498eeb1a7fae871bfdd95225\n",
      "0xa6a91af51a7b2100995a44ae3c9b31aabfb676dd23c8c67f4432d4f1dca9ee8011e5cfcb28ba255ba74b4476a04bbeefd29b4682d5c386e8001ec5150a0e4121\n"
     ]
    }
   ],
   "source": [
    "class KGC_key_public:\n",
    "    def __init__(self, N, e, QRN_generator, h1sf, h2f, key_size):\n",
    "        self.N = N\n",
    "        self.e = e\n",
    "        self.QRN_generator = QRN_generator\n",
    "        self.h1sf = h1sf\n",
    "        self.h2f = h2f\n",
    "        self.key_size = key_size\n",
    "\n",
    "class KGC_key:\n",
    "    def __init__(self, h1sf, h2f,key_size = KEY_SIZE):\n",
    "        \n",
    "        rsa_key = rsa.generate_private_key(\n",
    "            public_exponent=65537,\n",
    "            key_size = key_size,\n",
    "            backend = default_backend()\n",
    "        )\n",
    "        self.key_size = key_size\n",
    "        self.N = rsa_key.public_key().public_numbers().n\n",
    "        self.e = rsa_key.public_key().public_numbers().e\n",
    "        self.d = rsa_key.private_numbers().d\n",
    "        p = rsa_key.private_numbers().p\n",
    "        q = rsa_key.private_numbers().q\n",
    "        self.Phi = (p-1)*(q-1)\n",
    "        self.h1sf = h1sf # część funkcji hashującej H (wynik całej H musi być w QRN)\n",
    "        self.h2f = h2f #druga funkcja hashująca jest w całości\n",
    "    def set_QRN_generator(self, generator):\n",
    "        self.QRN_generator = generator\n",
    "    def public(self):\n",
    "        #return (self.N,self.e,self.generator, self.h1sf, self.h2f)\n",
    "        return KGC_key_public(self.N, self.e, self.QRN_generator, self.h1sf, self.h2f, self.key_size)\n",
    "    # d,Phi - traktować jak prywatne\n",
    "\n",
    "hash1_subfunction = select_SHA_context(H1_EXPONENT_SIZE)\n",
    "hash2_function = select_SHA_context(SESSION_KEY_SIZE)\n",
    "    \n",
    "kgc01 = KGC_key(hash1_subfunction, hash2_function)\n",
    "print('0x{:0128x}'.format(kgc01.N))\n",
    "print('0x{:0128x}'.format(kgc01.e))\n",
    "print('0x{:0128x}'.format(kgc01.d))\n",
    "print(hex(kgc01.N))\n",
    "        "
   ]
  },
  {
   "cell_type": "code",
   "execution_count": 5,
   "metadata": {},
   "outputs": [],
   "source": [
    "def hashH1(material, kgc_public, endian = ENDIAN, id_size = ID_SIZE):\n",
    "    material = material.to_bytes(id_size, endian)\n",
    "    context = hashes.Hash(kgc_public.h1sf, backend=default_backend()) \n",
    "    context.update(material)\n",
    "    exponent = int.from_bytes(context.finalize(), byteorder = endian)\n",
    "    hsh = pow(kgc_public.QRN_generator, exponent, kgc_public.N)\n",
    "    return hsh\n"
   ]
  },
  {
   "cell_type": "markdown",
   "metadata": {},
   "source": [
    "### Generacja kluczy uczestników mOT\n",
    "#### Znalezienie generatora g grupy reszt kwadratowych mod N\n",
    "Chcemy znaleźć generator podgrupy reszt kwadratowych w grupue Z_N. Oczekujemy, że grupa reszt będzie odpowiednio duża. Podgrupę będziemy oznaczać __QRN__ (analogicznie do oznaczenia w pracy Gannaro-Krawczyka-Rabina), generator będzie oznaczany __g__.\n",
    "___\n",
    "##### Rozkład Phi = d * (2^r) \n",
    "Najpierw wyznaczamy rozkład wartości funkcji Eulera dla _modułu klucza RSA_ __KGC__. Chcemy znaleźć takie __t__ oraz __r__, że __Phi = t * (2^r)__, przy czym __t__ jest nieparzyste."
   ]
  },
  {
   "cell_type": "code",
   "execution_count": null,
   "metadata": {},
   "outputs": [],
   "source": []
  },
  {
   "cell_type": "code",
   "execution_count": 6,
   "metadata": {},
   "outputs": [
    {
     "name": "stdout",
     "output_type": "stream",
     "text": [
      "2182180546594429814613501326587981365002226486266829943459173121815678406817674541252002127076638819638819964579756794184281194254257401183697611575896801 2\n",
      "8728722186377719258454005306351925460008905945067319773836692487262713627270698165008008508306555278555279858319027176737124777017029604734790446303587204\n"
     ]
    }
   ],
   "source": [
    "#Rozłożenie N-1 = d* (2**r)\n",
    "def mr(number):\n",
    "    t = number\n",
    "    r = 0\n",
    "    while t%2 == 0:\n",
    "    #while math.fmod(d,2) ==0:\n",
    "        t//=2\n",
    "        r+=1\n",
    "    return (t,r)\n",
    "\n",
    "(t,r) = mr(kgc01.Phi)\n",
    "print(t,r)\n",
    "print(t*(2**r))\n"
   ]
  },
  {
   "cell_type": "markdown",
   "metadata": {},
   "source": [
    "##### Wyznaczenie generatora g grupy QR_N\n",
    "W celu wygenerowania akceptowalnego g losujemy pewnwe __alpha__ i sprawdzamy czy generuje podgrupę o satysfakcjonująco dużym rzędzie. Załóżmy tutaj, że zadowala nas jeżeli __alpha__ podniesione do potęgi t modulo N jest różne od 1.\n",
    "W dalszej części podnosilibyśmy do kwadratu maksymalnie r razy. Jeżeli __alpha__ nie spełnia oczekiwań losujemy je ponownie i powtarzamy procedurę.  \n",
    "_W przyszłości rozważyć szukanie większych podgrup (podnieść kilka razy do kwadratu i sprawdzić po ilu podniesieniach jest 1)._"
   ]
  },
  {
   "cell_type": "code",
   "execution_count": 7,
   "metadata": {},
   "outputs": [
    {
     "name": "stdout",
     "output_type": "stream",
     "text": [
      "784341722290451240020670949797711354506350558383969377880287816098998994003483360748357131412938433623164322952887907809080449887070817361274441036206374 5141384625985612321398525402265837814420587247403326872509659045388233495794075294182241022714117255379064440805047160114306302385265366405806353762615253\n",
      "1\n"
     ]
    }
   ],
   "source": [
    "#generator grupy Z_N: Znaleźć alpha że g = alpha**2 jest generatorem dużej podgrupy (reszt kwadratowych)\n",
    "cont = True\n",
    "while cont == True:\n",
    "    alpha = random.randint(1,kgc01.N)\n",
    "    #print (pow(alpha, Phi, N))\n",
    "    beta = pow(alpha,t,kgc01.N)\n",
    "    print (beta, alpha)\n",
    "    if  beta != 1:\n",
    "        cont = False\n",
    "        #print (\"alpha jest generatorem dużej podgrupy\")\n",
    "    \n",
    "g = pow(alpha,2,kgc01.N)\n",
    "kgc01.set_QRN_generator(g)\n",
    "print (pow(kgc01.QRN_generator, kgc01.Phi, kgc01.N))"
   ]
  },
  {
   "cell_type": "markdown",
   "metadata": {},
   "source": [
    "#### Klasa użytkowników"
   ]
  },
  {
   "cell_type": "code",
   "execution_count": 8,
   "metadata": {},
   "outputs": [],
   "source": [
    "#Użytkownik\n",
    "class User:\n",
    "    def __init__(self,name,user_id):\n",
    "        self.name = name\n",
    "        self.id = user_id #user_id.to_bytes(ID_SIZE//8, byteorder=ENDIAN)\n",
    "        #self.idn = int.from_bytes(self.id, byteorder=ENDIAN)\n",
    "        \n",
    "    def set_private_key(self,key, endian = ENDIAN):\n",
    "        self.private_key = key\n",
    "        #self.private_key_n = int.from_bytes(key, endian)\n",
    "    def generate_ephemeral_exponent(self, ephemeral_exponent_size = EPHEMERAL_EXPONENT_SIZE):\n",
    "        self.ephemeral_exponent = random.randint(2**(ephemeral_exponent_size//4),2**(ephemeral_exponent_size))\n",
    "    def calculate_shared_secred(self, msg, id_corr, kgc_public, endian = ENDIAN):\n",
    "        #print(\"id_corr\", id_corr)\n",
    "        #hsh = hashH1(corr_idn.to_bytes(kgc_public.key_size//8, endian), kgc_public)\n",
    "        hsh = hashH1(id_corr, kgc_public)\n",
    "        rev_hsh = eea(kgc_public.N, hsh)[2]\n",
    "        \n",
    "        print(\"with reversing hsh:\", hsh*rev_hsh%kgc_public.N)\n",
    "        \n",
    "        \n",
    "        \n",
    "        #msgn = int.from_bytes(msg,endian)\n",
    "        #msgn_e = pow(msgn, kgc_public.e, kgc_public.N)\n",
    "        msgn_e = pow(msg, kgc_public.e, kgc_public.N)\n",
    "        \n",
    "        t = (msgn_e * rev_hsh)%kgc_public.N\n",
    "        K = pow(t, 2*self.ephemeral_exponent, kgc_public.N)\n",
    "        \n",
    "        return K\n",
    "        \n",
    "        \n",
    "    \n",
    "user_A = User(\"A\",random.randint(1,2**ID_SIZE))\n",
    "user_B = User(\"B\",random.randint(1,2**ID_SIZE))"
   ]
  },
  {
   "cell_type": "markdown",
   "metadata": {},
   "source": [
    "#### Generacja kluczy prywatnych uczestników mOT."
   ]
  },
  {
   "cell_type": "code",
   "execution_count": 9,
   "metadata": {},
   "outputs": [
    {
     "name": "stdout",
     "output_type": "stream",
     "text": [
      "1719407684113511332635213324017993778130319746033775904373235795911743881178631711044664134853407642432529313215109498231278025887966014834765204907007194\n"
     ]
    }
   ],
   "source": [
    "# funkcja hashująca do grupy reszt kwadratowych\n",
    "def generate_user_ltk(kgc, user_id, endian = ENDIAN):\n",
    "    #context = hashes.Hash(kgc.h1sf, backend=default_backend()) \n",
    "    #context.update(material)\n",
    "    #exponent = int.from_bytes(context.finalize(), byteorder = endian)\n",
    "    #sk = pow(kgc.QRN_generator, exponent, kgc01.N)\n",
    "    hsh = hashH1(user_id, kgc.public(), endian)\n",
    "    return pow(hsh, kgc.d, kgc.N)\n",
    "\n",
    "user_A.set_private_key(generate_user_ltk(kgc01, user_A.id))\n",
    "user_B.set_private_key(generate_user_ltk(kgc01, user_B.id))\n",
    "print(user_A.private_key)\n",
    "    \n",
    "\n",
    "    "
   ]
  },
  {
   "cell_type": "markdown",
   "metadata": {},
   "source": [
    "##### Weryfikacja klucza "
   ]
  },
  {
   "cell_type": "code",
   "execution_count": 10,
   "metadata": {},
   "outputs": [
    {
     "name": "stdout",
     "output_type": "stream",
     "text": [
      "True\n"
     ]
    }
   ],
   "source": [
    "usk = user_A.private_key\n",
    "usk_pow_e = pow(usk,kgc01.e,kgc01.N)\n",
    "#usk_pow_e = usk\n",
    "hash_context = hashes.Hash(select_SHA_context(H1_EXPONENT_SIZE), backend=default_backend()) \n",
    "hash_context.update(user_A.id.to_bytes(ID_SIZE, byteorder = ENDIAN))\n",
    "exponent = int.from_bytes(hash_context.finalize(), byteorder = ENDIAN)\n",
    "sk_pre_d = pow(kgc01.QRN_generator, exponent, kgc01.public().N)\n",
    "print ( sk_pre_d == usk_pow_e)\n",
    "if(sk_pre_d != usk_pow_e):\n",
    "    print (usk_pow_e,\"\\n\", sk_pre_d )\n",
    "    \n",
    "\n",
    "\n"
   ]
  },
  {
   "cell_type": "markdown",
   "metadata": {},
   "source": [
    "## Przebieg sesji\n",
    "\n",
    "### Generacja wiadomości\n"
   ]
  },
  {
   "cell_type": "code",
   "execution_count": 11,
   "metadata": {},
   "outputs": [
    {
     "name": "stdout",
     "output_type": "stream",
     "text": [
      "23627768970043766209963632374526829787678645994708545613609110006745414285329\n"
     ]
    }
   ],
   "source": [
    "\n",
    "def generate_negotiation_message(user, kgc_public, endian = ENDIAN):\n",
    "    g_p = pow(kgc_public.QRN_generator, user.ephemeral_exponent, kgc_public.N)\n",
    "    return ((g_p*user.private_key)%kgc_public.N)\n",
    "    \n",
    "\n",
    "user_A.generate_ephemeral_exponent()\n",
    "user_B.generate_ephemeral_exponent()\n",
    "\n",
    "msg_A = generate_negotiation_message(user_A,kgc01.public())\n",
    "msg_B = generate_negotiation_message(user_B,kgc01.public())\n",
    "\n",
    "#print(msg_A)\n",
    "\n",
    "    \n",
    "\n",
    "#idA = bytes(user_A.id.to_bytes(ID_SIZE, byteorder=\"little\"))\n",
    "#idA = bytes(user_A.id.to_bytes(ID_SIZE, byteorder=\"big\"))\n",
    "print(user_A.id)\n",
    "\n",
    "\n",
    "\n",
    "#print(idA)\n",
    "#print(hex(user_A.id))"
   ]
  },
  {
   "cell_type": "code",
   "execution_count": 12,
   "metadata": {
    "scrolled": true
   },
   "outputs": [
    {
     "name": "stdout",
     "output_type": "stream",
     "text": [
      "with reversing hsh: 1\n",
      "with reversing hsh: 1\n",
      "k=\t 2850274805489043140087675445862511545602211962877090195245556840143571801922215910873561281336283663057425379228646242791665052687520723485361798336960526\n",
      "k_A=\t 2850274805489043140087675445862511545602211962877090195245556840143571801922215910873561281336283663057425379228646242791665052687520723485361798336960526\n",
      "k_B=\t 2850274805489043140087675445862511545602211962877090195245556840143571801922215910873561281336283663057425379228646242791665052687520723485361798336960526\n",
      "k1a =\t 8378656219709587316290902258174933378010436836431886404958396195085168125067806584616991366312981584521284089318120357632473914231771314191798250378533944\n",
      "k2a =\t 990471411591126867090953731246250150602150526367473641544397965010244907142931203174950398423509565314933786442838838871953980738461289610635389573321984\n",
      "k3a =\t 4161110457891112814497941313010733229682465451587736350716286579682170012263665735540712818629780736348919101785157638170805521998303023284137536144762073\n",
      "k4a =\t 2850274805489043140087675445862511545602211962877090195245556840143571801922215910873561281336283663057425379228646242791665052687520723485361798336960526\n"
     ]
    }
   ],
   "source": [
    "k_A = user_A.calculate_shared_secred(msg_B, user_B.id, kgc01.public())\n",
    "k_B = user_B.calculate_shared_secred(msg_A, user_A.id, kgc01.public())\n",
    "\n",
    "k = pow(kgc01.QRN_generator,2*user_A.ephemeral_exponent*user_B.ephemeral_exponent*kgc01.e, kgc01.N)\n",
    "#print (kgc01.QRN_generator)\n",
    "print(\"k=\\t\", k)\n",
    "print(\"k_A=\\t\", k_A)\n",
    "print(\"k_B=\\t\", k_B)\n",
    "\n",
    "k1a = pow(msg_B, kgc01.e, kgc01.N)\n",
    "k2a = eea(kgc01.N,hashH1(user_B.id, kgc01.public()))[2]\n",
    "k3a = k1a*k2a%kgc01.N\n",
    "k4a = pow(k3a, 2*user_A.ephemeral_exponent, kgc01.N)\n",
    "print(\"k1a =\\t\", k1a)\n",
    "print(\"k2a =\\t\", k2a)\n",
    "print(\"k3a =\\t\", k3a)\n",
    "print(\"k4a =\\t\", k4a)\n",
    "\n"
   ]
  },
  {
   "cell_type": "code",
   "execution_count": null,
   "metadata": {},
   "outputs": [],
   "source": []
  },
  {
   "cell_type": "code",
   "execution_count": null,
   "metadata": {},
   "outputs": [],
   "source": []
  },
  {
   "cell_type": "code",
   "execution_count": null,
   "metadata": {},
   "outputs": [],
   "source": []
  },
  {
   "cell_type": "code",
   "execution_count": null,
   "metadata": {},
   "outputs": [],
   "source": []
  },
  {
   "cell_type": "code",
   "execution_count": null,
   "metadata": {},
   "outputs": [],
   "source": []
  }
 ],
 "metadata": {
  "kernelspec": {
   "display_name": "Python 3",
   "language": "python",
   "name": "python3"
  },
  "language_info": {
   "codemirror_mode": {
    "name": "ipython",
    "version": 3
   },
   "file_extension": ".py",
   "mimetype": "text/x-python",
   "name": "python",
   "nbconvert_exporter": "python",
   "pygments_lexer": "ipython3",
   "version": "3.5.3"
  }
 },
 "nbformat": 4,
 "nbformat_minor": 2
}
