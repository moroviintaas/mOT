{
 "cells": [
  {
   "cell_type": "markdown",
   "metadata": {},
   "source": [
    "# Okamoto-Tanaka Revisited protocol\n"
   ]
  },
  {
   "cell_type": "code",
   "execution_count": null,
   "metadata": {},
   "outputs": [],
   "source": [
    "import sys\n",
    "print(sys.version)"
   ]
  },
  {
   "cell_type": "code",
   "execution_count": null,
   "metadata": {},
   "outputs": [],
   "source": [
    "import random\n",
    "import os\n",
    "from cryptography.hazmat.primitives.asymmetric import rsa\n",
    "from cryptography.hazmat.backends import default_backend\n",
    "from cryptography.hazmat.primitives import hashes\n",
    "import math\n",
    "\n",
    "KEY_SIZE = 1024\n",
    "H1_EXPONENT_SIZE = 256\n",
    "SESSION_KEY_SIZE = 128\n",
    "EPHEMERAL_EXPONENT_SIZE = 256\n",
    "ID_SIZE = 64\n",
    "ENDIAN = \"little\"\n"
   ]
  },
  {
   "cell_type": "code",
   "execution_count": null,
   "metadata": {},
   "outputs": [],
   "source": [
    "#dobór funkcji haschującej\n",
    "def select_SHA_context(length_in_bits):\n",
    "    if length_in_bits <= 224:\n",
    "        return hashes.SHA224()\n",
    "    elif length_in_bits <= 256:\n",
    "        return hashes.SHA256()\n",
    "    elif length_in_bits <= 384:\n",
    "        return hashes.SHA384()\n",
    "    elif length_in_bits <= 512:\n",
    "        return hashes.SHA512()\n",
    "    else:\n",
    "        #TODO Exception\n",
    "        print(\"Error, output to big for now\")\n",
    "\n",
    "#hf_KGC = select_SHA_context(H1_EXPONENT_SIZE)\n",
    "#hf_USER = select_SHA_context(SESSION_KEY_SIZE)\n"
   ]
  },
  {
   "cell_type": "code",
   "execution_count": null,
   "metadata": {},
   "outputs": [],
   "source": [
    "def eea(_a,_b):\n",
    "    u1 = 1\n",
    "    v1 = 0\n",
    "    u2 = 0\n",
    "    v2 = 1\n",
    "    if _a < 1 or _b < 1:\n",
    "        return \"Error\"\n",
    "    \n",
    "    if _b>_a:\n",
    "        a = _b\n",
    "        b = _a\n",
    "        reverse = False\n",
    "    else:\n",
    "        a = _a\n",
    "        b = _b\n",
    "        reverse  = True\n",
    "    r = _b\n",
    "    while r!=0:\n",
    "        g = r\n",
    "        q = a//b\n",
    "        \n",
    "        r = a - (q*b)   \n",
    "        u = u1 - (q*u2)\n",
    "        v = v1 - (q*v2)\n",
    "        u1 = u2\n",
    "        v1 = v2\n",
    "        u2 = u\n",
    "        v2 = v\n",
    "        \n",
    "        a = b\n",
    "        b = r\n",
    "        \n",
    "        #print(q,r,u,v)\n",
    "    if reverse:\n",
    "        return (a, u1, v1)\n",
    "    else:\n",
    "        return (a,v1,u1)\n",
    "    #return (a,v1,u1)\n",
    "\n",
    "\n",
    "print(eea(77, 11))\n",
    "print(eea(11, 77))\n",
    "#print(eea(62, 7))"
   ]
  },
  {
   "cell_type": "code",
   "execution_count": null,
   "metadata": {},
   "outputs": [],
   "source": []
  },
  {
   "cell_type": "markdown",
   "metadata": {},
   "source": [
    "## Generacja klucza\n",
    "\n"
   ]
  },
  {
   "cell_type": "markdown",
   "metadata": {},
   "source": [
    "### Pseudolosowość"
   ]
  },
  {
   "cell_type": "markdown",
   "metadata": {},
   "source": [
    "#### Generacja liczby pseudolosowej przez system (urandom) - kryptograficznie zalecane:"
   ]
  },
  {
   "cell_type": "code",
   "execution_count": null,
   "metadata": {},
   "outputs": [],
   "source": [
    "def get_random(num_of_bytes):\n",
    "    return int.from_bytes(os.urandom(num_of_bytes), byteorder='little')\n"
   ]
  },
  {
   "cell_type": "markdown",
   "metadata": {},
   "source": [
    "#### Rozkład x = d * (2^r) \n",
    "Najpierw wyznaczamy rozkład wartości funkcji Eulera dla _modułu klucza RSA_ __KGC__. Chcemy znaleźć takie __t__ oraz __r__, że __x = t * (2^r)__, przy czym __t__ jest nieparzyste."
   ]
  },
  {
   "cell_type": "code",
   "execution_count": null,
   "metadata": {},
   "outputs": [],
   "source": [
    "#Rozłożenie N-1 = d* (2**r)\n",
    "def mr(number):\n",
    "    t = number\n",
    "    r = 0\n",
    "    while t%2 == 0:\n",
    "    #while math.fmod(d,2) ==0:\n",
    "        t//=2\n",
    "        r+=1\n",
    "    return (t,r)\n"
   ]
  },
  {
   "cell_type": "markdown",
   "metadata": {},
   "source": [
    "#### Test Millera-Rabina"
   ]
  },
  {
   "cell_type": "code",
   "execution_count": null,
   "metadata": {},
   "outputs": [],
   "source": [
    "def miller_rabin_test(number, security=100):\n",
    "    nm1 = number-1\n",
    "    t,r = mr(nm1)\n",
    "    for i in range(security):\n",
    "        a = 0\n",
    "        while a <2 :\n",
    "            a = get_random(number.bit_length()//8+1)%number\n",
    "        x = pow(a,t,number)\n",
    "        if x != 1 and x != nm1:\n",
    "            pt = False\n",
    "            for j in range(r):\n",
    "                x = pow(x,2,number)\n",
    "                if x == nm1:\n",
    "                    pt = True\n",
    "                    break\n",
    "            if pt == False:\n",
    "                #witness\n",
    "                #print(a, t,r)\n",
    "                return False\n",
    "    return True\n",
    "    \n",
    "miller_rabin_test(21,100)"
   ]
  },
  {
   "cell_type": "markdown",
   "metadata": {},
   "source": [
    "#### Bezpieczne liczby pierwsze:"
   ]
  },
  {
   "cell_type": "code",
   "execution_count": null,
   "metadata": {},
   "outputs": [],
   "source": [
    "def get_secure_prime(num_of_bytes, security_level):\n",
    "    failure_counter = 0\n",
    "    next_failure_jump = 4\n",
    "    success = False\n",
    "    while success == False:\n",
    "        p1 = get_random(num_of_bytes//2)\n",
    "        if p1 % 2 == 0:\n",
    "            p1 += 1\n",
    "        if miller_rabin_test(p1, security_level) and miller_rabin_test((2*p1)+1, security_level):\n",
    "            return (2*p1)+1\n",
    "        else:\n",
    "            failure_counter +=1\n",
    "            if failure_counter >= next_failure_jump:\n",
    "                security_level+=1\n",
    "                next_failure_jump*=2\n",
    "#p = get_secure_prime(64, 100)\n",
    "#q = get_secure_prime(64, 100)\n",
    "\n",
    "#print(p)\n",
    "#print(q)\n",
    "        "
   ]
  },
  {
   "cell_type": "markdown",
   "metadata": {},
   "source": [
    "### Klasa KGC:"
   ]
  },
  {
   "cell_type": "code",
   "execution_count": null,
   "metadata": {},
   "outputs": [],
   "source": [
    "class KGC_key_public:\n",
    "    def __init__(self, N, e, QRN_generator, h1sf, h2f, key_size):\n",
    "        self.N = N\n",
    "        self.e = e\n",
    "        self.QRN_generator = QRN_generator\n",
    "        self.h1sf = h1sf\n",
    "        self.h2f = h2f\n",
    "        self.key_size = key_size\n",
    "\n",
    "class KGC_key:\n",
    "    def __init__(self, h1sf, h2f,key_size = KEY_SIZE):\n",
    "        \n",
    "        #rsa_key = rsa.generate_private_key(\n",
    "        #    public_exponent=65537,\n",
    "        #    key_size = key_size,\n",
    "        #    backend = default_backend()\n",
    "        #)\n",
    "        self.key_size = key_size\n",
    "        #self.N = rsa_key.public_key().public_numbers().n\n",
    "        #self.e = rsa_key.public_key().public_numbers().e\n",
    "        #self.d = rsa_key.private_numbers().d\n",
    "        #self.p = rsa_key.private_numbers().p\n",
    "        #self.q = rsa_key.private_numbers().q\n",
    "        self.p = get_secure_prime(key_size//16, 100)\n",
    "        self.q = get_secure_prime(key_size//16, 100)\n",
    "        self.N = self.p*self.q\n",
    "        self.e = 65537\n",
    "        \n",
    "        self.Phi = (self.p-1)*(self.q-1)\n",
    "        \n",
    "        self.d = eea(self.Phi, self.e)[2]\n",
    "        while self.d < 0:\n",
    "            self.d += self.Phi#\n",
    "        #print(\"Phi:\\t\", self.Phi)\n",
    "        #print(\"e:\\t\", self.e)\n",
    "        #print(\"d:\\t\", self.d)\n",
    "        #print(\"N:\\t\", self.N)\n",
    "        #print(\"eea:\\t\",eea(self.Phi, self.e))\n",
    "        #print(\"p:\\t\", self.p)\n",
    "        #print(\"q:\\t\", self.q)\n",
    "        self.h1sf = h1sf # część funkcji hashującej H (wynik całej H musi być w QRN)\n",
    "        self.h2f = h2f #druga funkcja hashująca jest w całości\n",
    "    def set_QRN_generator(self, generator):\n",
    "        self.QRN_generator = generator\n",
    "    def public(self):\n",
    "        #return (self.N,self.e,self.generator, self.h1sf, self.h2f)\n",
    "        return KGC_key_public(self.N, self.e, self.QRN_generator, self.h1sf, self.h2f, self.key_size)\n",
    "    # d,Phi - traktować jak prywatne\n",
    "\n",
    "hash1_subfunction = select_SHA_context(H1_EXPONENT_SIZE)\n",
    "hash2_function = select_SHA_context(SESSION_KEY_SIZE)\n",
    "    \n",
    "\n",
    "        "
   ]
  },
  {
   "cell_type": "code",
   "execution_count": null,
   "metadata": {},
   "outputs": [],
   "source": []
  },
  {
   "cell_type": "code",
   "execution_count": null,
   "metadata": {},
   "outputs": [],
   "source": [
    "def hashH1(material, kgc_public, endian = ENDIAN, id_size = ID_SIZE):\n",
    "    #DEBUG_START\n",
    "    print(\"hashH1: number to hash\")\n",
    "    print('{:08x}'.format(material))\n",
    "    material = material.to_bytes(id_size//8, endian)\n",
    "    #tp = [ord(material[i]) for i in range(material)]\n",
    "    print(\"hashH1: bytes to hash:\")\n",
    "    print(material.hex())\n",
    "    #print(tp)\n",
    "    \n",
    "    \n",
    "    context = hashes.Hash(kgc_public.h1sf, backend=default_backend()) \n",
    "    context.update(material)\n",
    "    hash_result = context.finalize()\n",
    "    #exponent = int.from_bytes(hash_result, byteorder = endian)\n",
    "    #print('Hash result:')\n",
    "    #print (hash_result.hex())\n",
    "    #print ('{:032x}'.format(exponent))\n",
    "    h_result = int.from_bytes(hash_result, byteorder = endian)\n",
    "    print('h_result:\\t','{:032x}'.format(h_result))\n",
    "    #DEBUG_END\n",
    "    #hsh = pow(kgc_public.QRN_generator, exponent, kgc_public.N)\n",
    "    hsh = pow(h_result, 2, kgc_public.N)\n",
    "    print('hsh1:\\t','{:032x}'.format(hsh))\n",
    "    return hsh\n"
   ]
  },
  {
   "cell_type": "markdown",
   "metadata": {},
   "source": [
    "### Generacja kluczy uczestników mOT\n",
    "#### Znalezienie generatora g grupy reszt kwadratowych mod N\n",
    "Chcemy znaleźć generator podgrupy reszt kwadratowych w grupue Z_N. Oczekujemy, że grupa reszt będzie odpowiednio duża. Podgrupę będziemy oznaczać __QRN__ (analogicznie do oznaczenia w pracy Gannaro-Krawczyka-Rabina), generator będzie oznaczany __g__.\n",
    "___\n"
   ]
  },
  {
   "cell_type": "code",
   "execution_count": null,
   "metadata": {},
   "outputs": [],
   "source": []
  },
  {
   "cell_type": "code",
   "execution_count": null,
   "metadata": {},
   "outputs": [],
   "source": [
    "\n",
    "\n"
   ]
  },
  {
   "cell_type": "markdown",
   "metadata": {},
   "source": [
    "##### Wyznaczenie generatora g grupy QR_N\n",
    "W celu wygenerowania akceptowalnego g losujemy pewnwe __alpha__ i sprawdzamy czy generuje podgrupę o satysfakcjonująco dużym rzędzie. Załóżmy tutaj, że zadowala nas jeżeli __alpha__ podniesione do potęgi t modulo N jest różne od 1.\n",
    "W dalszej części podnosilibyśmy do kwadratu maksymalnie r razy. Jeżeli __alpha__ nie spełnia oczekiwań losujemy je ponownie i powtarzamy procedurę.  \n",
    "_W przyszłości rozważyć szukanie większych podgrup (podnieść kilka razy do kwadratu i sprawdzić po ilu podniesieniach jest 1)._"
   ]
  },
  {
   "cell_type": "markdown",
   "metadata": {},
   "source": [
    "### Tworzenie KGC\n",
    "Tworzymy instancje KGC upewniając się, że parametry są poprawne i bezpieczne\n"
   ]
  },
  {
   "cell_type": "code",
   "execution_count": null,
   "metadata": {},
   "outputs": [],
   "source": [
    "def valid_kgc():  \n",
    "    kgc = KGC_key(hash1_subfunction, hash2_function)\n",
    "    print('{:0128x}'.format(kgc.N))\n",
    "    print('{:0128x}'.format(kgc.e))\n",
    "    print('{:0128x}'.format(kgc.d))\n",
    "    print(hex(kgc.N))\n",
    "    return kgc\n",
    "kgc01 = valid_kgc()\n",
    "#(t,r) = mr(kgc01.Phi)\n",
    "\n",
    "#print (kgc01.p-1//2)\n",
    "#print (kgc01.q-1//2)\n",
    "#rp1 = mr(kgc01.p-1)\n",
    "#rp2 = mr(kgc01.q-1)\n",
    "#print('rp1\\t', rp1)\n",
    "#print('rp2\\t', rp2)\n",
    "\n",
    "#print(t,r)\n",
    "print(pow(pow(2,kgc01.e,kgc01.N),kgc01.d, kgc01.N))\n",
    "#print(t*(2**r))\n",
    "#print(t,r)"
   ]
  },
  {
   "cell_type": "code",
   "execution_count": null,
   "metadata": {},
   "outputs": [],
   "source": []
  },
  {
   "cell_type": "code",
   "execution_count": null,
   "metadata": {},
   "outputs": [],
   "source": [
    "#generator grupy Z_N: Znaleźć alpha że g = alpha**2 jest generatorem dużej podgrupy (reszt kwadratowych)\n",
    "cont = True\n",
    "(t,r) = mr(kgc01.Phi)\n",
    "while cont == True:\n",
    "    alpha = random.randint(1,kgc01.N)\n",
    "    #print (pow(alpha, Phi, N))\n",
    "    beta = pow(alpha,t,kgc01.N)\n",
    "    print (beta, alpha)\n",
    "    if  beta != 1:\n",
    "        cont = False\n",
    "        #print (\"alpha jest generatorem dużej podgrupy\")\n",
    "    \n",
    "g = pow(alpha,2,kgc01.N)\n",
    "kgc01.set_QRN_generator(g)\n",
    "#print (pow(kgc01.QRN_generator, kgc01.Phi, kgc01.N))\n",
    "print(hex(g))"
   ]
  },
  {
   "cell_type": "markdown",
   "metadata": {},
   "source": [
    "#### Klasa użytkowników"
   ]
  },
  {
   "cell_type": "code",
   "execution_count": null,
   "metadata": {},
   "outputs": [],
   "source": [
    "#Użytkownik\n",
    "class User:\n",
    "    def __init__(self,name,user_id):\n",
    "        self.name = name\n",
    "        self.id = user_id #user_id.to_bytes(ID_SIZE//8, byteorder=ENDIAN)\n",
    "        #self.idn = int.from_bytes(self.id, byteorder=ENDIAN)\n",
    "        \n",
    "    def set_private_key(self,key, endian = ENDIAN):\n",
    "        self.private_key = key\n",
    "        #self.private_key_n = int.from_bytes(key, endian)\n",
    "    def generate_ephemeral_exponent(self, ephemeral_exponent_size = EPHEMERAL_EXPONENT_SIZE):\n",
    "        self.ephemeral_exponent = random.randint(2**(ephemeral_exponent_size//4),2**(ephemeral_exponent_size))\n",
    "    def calculate_shared_secred(self, msg, id_corr, kgc_public, endian = ENDIAN):\n",
    "        #print(\"id_corr\", id_corr)\n",
    "        #hsh = hashH1(corr_idn.to_bytes(kgc_public.key_size//8, endian), kgc_public)\n",
    "        hsh = hashH1(id_corr, kgc_public)\n",
    "        rev_hsh = eea(kgc_public.N, hsh)[2]\n",
    "        \n",
    "        print(\"with reversing hsh:\", hsh*rev_hsh%kgc_public.N)\n",
    "        \n",
    "        \n",
    "        \n",
    "        #msgn = int.from_bytes(msg,endian)\n",
    "        #msgn_e = pow(msgn, kgc_public.e, kgc_public.N)\n",
    "        msgn_e = pow(msg, kgc_public.e, kgc_public.N)\n",
    "        \n",
    "        t = (msgn_e * rev_hsh)%kgc_public.N\n",
    "        K = pow(t, 2*self.ephemeral_exponent, kgc_public.N)\n",
    "        \n",
    "        return K\n",
    "        \n",
    "        \n",
    "    \n",
    "user_A = User(\"A\",random.randint(1,2**ID_SIZE))\n",
    "user_B = User(\"B\",random.randint(1,2**ID_SIZE))"
   ]
  },
  {
   "cell_type": "markdown",
   "metadata": {},
   "source": [
    "#### Generacja kluczy prywatnych uczestników mOT."
   ]
  },
  {
   "cell_type": "code",
   "execution_count": null,
   "metadata": {},
   "outputs": [],
   "source": [
    "# funkcja hashująca do grupy reszt kwadratowych\n",
    "def generate_user_ltk(kgc, user_id, endian = ENDIAN):\n",
    "    #context = hashes.Hash(kgc.h1sf, backend=default_backend()) \n",
    "    #context.update(material)\n",
    "    #exponent = int.from_bytes(context.finalize(), byteorder = endian)\n",
    "    #sk = pow(kgc.QRN_generator, exponent, kgc01.N)\n",
    "    hsh = hashH1(user_id, kgc.public(), endian)\n",
    "    print('hsh:\\t', hex(hsh))\n",
    "    return pow(hsh, kgc.d, kgc.N)\n",
    "\n",
    "user_A.set_private_key(generate_user_ltk(kgc01, user_A.id))\n",
    "user_B.set_private_key(generate_user_ltk(kgc01, user_B.id))\n",
    "print((user_A.private_key))\n",
    "print('{:08x}'.format(user_A.private_key))\n",
    "    \n",
    "\n",
    "    "
   ]
  },
  {
   "cell_type": "markdown",
   "metadata": {},
   "source": [
    "##### Weryfikacja klucza "
   ]
  },
  {
   "cell_type": "code",
   "execution_count": null,
   "metadata": {},
   "outputs": [],
   "source": [
    "usk = user_A.private_key\n",
    "usk_pow_e = pow(usk,kgc01.e,kgc01.N)\n",
    "#usk_pow_e = usk\n",
    "hash_context = hashes.Hash(select_SHA_context(H1_EXPONENT_SIZE), backend=default_backend()) \n",
    "hash_context.update(user_A.id.to_bytes(ID_SIZE, byteorder = ENDIAN))\n",
    "exponent = int.from_bytes(hash_context.finalize(), byteorder = ENDIAN)\n",
    "sk_pre_d = pow(kgc01.QRN_generator, exponent, kgc01.public().N)\n",
    "print ( sk_pre_d == usk_pow_e)\n",
    "if(sk_pre_d != usk_pow_e):\n",
    "    print (usk_pow_e,\"\\n\", sk_pre_d )\n",
    "    \n",
    "\n",
    "\n"
   ]
  },
  {
   "cell_type": "markdown",
   "metadata": {},
   "source": [
    "## Przebieg sesji\n",
    "\n",
    "### Generacja wiadomości\n"
   ]
  },
  {
   "cell_type": "code",
   "execution_count": null,
   "metadata": {},
   "outputs": [],
   "source": [
    "\n",
    "def generate_negotiation_message(user, kgc_public, endian = ENDIAN):\n",
    "    g_p = pow(kgc_public.QRN_generator, user.ephemeral_exponent, kgc_public.N)\n",
    "    return ((g_p*user.private_key)%kgc_public.N)\n",
    "    \n",
    "\n",
    "user_A.generate_ephemeral_exponent()\n",
    "user_B.generate_ephemeral_exponent()\n",
    "\n",
    "msg_A = generate_negotiation_message(user_A,kgc01.public())\n",
    "msg_B = generate_negotiation_message(user_B,kgc01.public())\n",
    "\n",
    "#print(msg_A)\n",
    "\n",
    "    \n",
    "\n",
    "#idA = bytes(user_A.id.to_bytes(ID_SIZE, byteorder=\"little\"))\n",
    "#idA = bytes(user_A.id.to_bytes(ID_SIZE, byteorder=\"big\"))\n",
    "print(user_A.id)\n",
    "\n",
    "\n",
    "\n",
    "#print(idA)\n",
    "#print(hex(user_A.id))"
   ]
  },
  {
   "cell_type": "code",
   "execution_count": null,
   "metadata": {
    "scrolled": true
   },
   "outputs": [],
   "source": [
    "k_A = user_A.calculate_shared_secred(msg_B, user_B.id, kgc01.public())\n",
    "k_B = user_B.calculate_shared_secred(msg_A, user_A.id, kgc01.public())\n",
    "\n",
    "k = pow(kgc01.QRN_generator,2*user_A.ephemeral_exponent*user_B.ephemeral_exponent*kgc01.e, kgc01.N)\n",
    "#print (kgc01.QRN_generator)\n",
    "print(\"k=\\t\", k)\n",
    "print(\"k_A=\\t\", k_A)\n",
    "print(\"k_B=\\t\", k_B)\n",
    "\n",
    "k1a = pow(msg_B, kgc01.e, kgc01.N)\n",
    "k2a = eea(kgc01.N,hashH1(user_B.id, kgc01.public()))[2]\n",
    "k3a = k1a*k2a%kgc01.N\n",
    "k4a = pow(k3a, 2*user_A.ephemeral_exponent, kgc01.N)\n",
    "print(\"k1a =\\t\", k1a)\n",
    "print(\"k2a =\\t\", k2a)\n",
    "print(\"k3a =\\t\", k3a)\n",
    "print(\"k4a =\\t\", k4a)\n",
    "\n"
   ]
  },
  {
   "cell_type": "code",
   "execution_count": null,
   "metadata": {},
   "outputs": [],
   "source": []
  },
  {
   "cell_type": "code",
   "execution_count": null,
   "metadata": {},
   "outputs": [],
   "source": []
  },
  {
   "cell_type": "code",
   "execution_count": null,
   "metadata": {},
   "outputs": [],
   "source": []
  },
  {
   "cell_type": "code",
   "execution_count": null,
   "metadata": {},
   "outputs": [],
   "source": []
  },
  {
   "cell_type": "code",
   "execution_count": null,
   "metadata": {},
   "outputs": [],
   "source": []
  }
 ],
 "metadata": {
  "kernelspec": {
   "display_name": "py3",
   "language": "python",
   "name": "py3"
  },
  "language_info": {
   "codemirror_mode": {
    "name": "ipython",
    "version": 3
   },
   "file_extension": ".py",
   "mimetype": "text/x-python",
   "name": "python",
   "nbconvert_exporter": "python",
   "pygments_lexer": "ipython3",
   "version": "3.5.3"
  }
 },
 "nbformat": 4,
 "nbformat_minor": 2
}
