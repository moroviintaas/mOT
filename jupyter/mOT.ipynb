{
 "cells": [
  {
   "cell_type": "markdown",
   "metadata": {},
   "source": [
    "# Okamoto-Tanaka Revisited protocol\n"
   ]
  },
  {
   "cell_type": "code",
   "execution_count": null,
   "metadata": {},
   "outputs": [],
   "source": [
    "import random\n",
    "from cryptography.hazmat.primitives.asymmetric import rsa\n",
    "from cryptography.hazmat.backends import default_backend\n",
    "from cryptography.hazmat.primitives import hashes\n",
    "import math\n",
    "\n",
    "KEY_SIZE = 512\n",
    "H1_EXPONENT_SIZE = 256\n",
    "SESSION_KEY_SIZE = 128\n",
    "EXPONENT_SIZE = 256\n",
    "ID_SIZE = 256\n",
    "ENDIAN = \"little\"\n"
   ]
  },
  {
   "cell_type": "code",
   "execution_count": null,
   "metadata": {},
   "outputs": [],
   "source": [
    "#dobór funkcji haschującej\n",
    "def select_SHA_context(length_in_bits):\n",
    "    if length_in_bits <= 224:\n",
    "        return hashes.SHA224()\n",
    "    elif length_in_bits <= 256:\n",
    "        return hashes.SHA256()\n",
    "    elif length_in_bits <= 384:\n",
    "        return hashes.SHA384()\n",
    "    elif length_in_bits <= 512:\n",
    "        return hashes.SHA512()\n",
    "    else:\n",
    "        #TODO Exception\n",
    "        print(\"Error, output to big for now\")\n",
    "\n",
    "#hf_KGC = select_SHA_context(H1_EXPONENT_SIZE)\n",
    "#hf_USER = select_SHA_context(SESSION_KEY_SIZE)\n"
   ]
  },
  {
   "cell_type": "code",
   "execution_count": null,
   "metadata": {},
   "outputs": [],
   "source": []
  },
  {
   "cell_type": "code",
   "execution_count": null,
   "metadata": {},
   "outputs": [],
   "source": [
    "#Użytkownik\n",
    "class User:\n",
    "    def __init__(self,name,user_id):\n",
    "        self.name = name\n",
    "        self.id = user_id.to_bytes(ID_SIZE//8, byteorder=ENDIAN)\n",
    "        \n",
    "    def set_private_key(self,key):\n",
    "        self.private_key = key\n",
    "    \n",
    "user_A = User(\"A\",random.randint(1,2**ID_SIZE))\n",
    "user_B = User(\"B\",random.randint(1,2**ID_SIZE))"
   ]
  },
  {
   "cell_type": "markdown",
   "metadata": {},
   "source": [
    "## Generacja klucza\n",
    "Generujemy klucze uży\n"
   ]
  },
  {
   "cell_type": "markdown",
   "metadata": {},
   "source": [
    "### Generacja klucza RSA:"
   ]
  },
  {
   "cell_type": "code",
   "execution_count": null,
   "metadata": {},
   "outputs": [],
   "source": [
    "class KGC_key_pair:\n",
    "    def __init__(self):\n",
    "        rsa_key = rsa.generate_private_key(\n",
    "            public_exponent=65537,\n",
    "            key_size = KEY_SIZE,\n",
    "            backend = default_backend()\n",
    "        )\n",
    "        self.N = rsa_key.public_key().public_numbers().n\n",
    "        self.e = rsa_key.public_key().public_numbers().e\n",
    "        self.d = rsa_key.private_numbers().d\n",
    "        p = rsa_key.private_numbers().p\n",
    "        q = rsa_key.private_numbers().q\n",
    "        self.Phi = (p-1)*(q-1)\n",
    "    def set_QRN_generator(self, generator):\n",
    "        self.QRN_generator = generator\n",
    "kgc01 = KGC_key_pair()\n",
    "        "
   ]
  },
  {
   "cell_type": "code",
   "execution_count": null,
   "metadata": {},
   "outputs": [],
   "source": [
    "#rsa_key = rsa.generate_private_key(\n",
    "#    public_exponent=65537,\n",
    "#    key_size = KEY_SIZE,\n",
    "#    backend=default_backend()\n",
    "#)\n",
    "#N = rsa_key.public_key().public_numbers().n\n",
    "#p = rsa_key.private_numbers().p\n",
    "#q = rsa_key.private_numbers().q\n",
    "#Phi = (p-1)*(q-1)\n",
    "#print(\"N=\",N)\n",
    "#print(\"p=\",p)\n",
    "#print(\"q=\",q)\n",
    "#if Phi % 2 != 0:\n",
    "#    print (\"Phi should be even!\")\n",
    "#print(\"Phi=\",Phi)\n",
    "\n",
    "\n"
   ]
  },
  {
   "cell_type": "markdown",
   "metadata": {},
   "source": [
    "### Generacja kluczy mOT"
   ]
  },
  {
   "cell_type": "markdown",
   "metadata": {},
   "source": [
    "### Znalezienie generatora g grupy reszt kwadratowych mod N:"
   ]
  },
  {
   "cell_type": "markdown",
   "metadata": {},
   "source": [
    "#### Rozkład N-1 = d * (2^r)"
   ]
  },
  {
   "cell_type": "code",
   "execution_count": null,
   "metadata": {},
   "outputs": [],
   "source": [
    "#Rozłożenie N-1 = d* (2**r)\n",
    "def mr(number):\n",
    "    t = number\n",
    "    r = 0\n",
    "    while t%2 == 0:\n",
    "    #while math.fmod(d,2) ==0:\n",
    "        t//=2\n",
    "        r+=1\n",
    "    return (t,r)\n",
    "\n",
    "(t,r) = mr(kgc01.Phi)\n",
    "print(t,r)\n",
    "print(t*(2**r))\n"
   ]
  },
  {
   "cell_type": "markdown",
   "metadata": {},
   "source": [
    "#### Wyznaczenie generatora g grupy QR_N"
   ]
  },
  {
   "cell_type": "code",
   "execution_count": null,
   "metadata": {},
   "outputs": [],
   "source": [
    "#generator grupy Z_N: Znaleźć alpha że g = alpha**2 jest generatorem dużej podgrupy (reszt kwadratowych)\n",
    "cont = True\n",
    "\n",
    "while cont == True:\n",
    "    alpha = random.randint(1,kgc01.N)\n",
    "    #print (pow(alpha, Phi, N))\n",
    "    beta = pow(alpha,t,kgc01.N)\n",
    "    print (beta, alpha)\n",
    "    if  beta != 1:\n",
    "        cont = False\n",
    "        #print (\"alpha jest generatorem dużej podgrupy\")\n",
    "    \n",
    "g = pow(alpha,2,kgc01.N)\n",
    "kgc01.set_QRN_generator(g)"
   ]
  },
  {
   "cell_type": "code",
   "execution_count": null,
   "metadata": {},
   "outputs": [],
   "source": [
    "# funkcja hashująca do grupy reszt kwadratowych\n",
    "def hf_KGC(kgc, material, length_in_bits = H1_EXPONENT_SIZE, key_size = KEY_SIZE, endian = ENDIAN):\n",
    "    context = hashes.Hash(select_SHA_context(length_in_bits), backend=default_backend()) \n",
    "    context.update(material)\n",
    "    exponent = int.from_bytes(context.finalize(), byteorder = endian)\n",
    "    sk = pow(kgc.QRN_generator, exponent, kgc01.N)\n",
    "    return pow(sk, kgc.d, kgc.N).to_bytes(key_size//8, endian)\n",
    "\n",
    "sk = hf_KGC(kgc01, user_A.id)\n",
    "print(sk)\n",
    "    \n",
    "\n",
    "    "
   ]
  },
  {
   "cell_type": "markdown",
   "metadata": {},
   "source": [
    "#### Generacja klucza\n"
   ]
  },
  {
   "cell_type": "code",
   "execution_count": null,
   "metadata": {},
   "outputs": [],
   "source": [
    "\n",
    "\n",
    "def generate_user_key(user_id, hash_function, private_exponent):\n",
    "    return 0\n",
    "\n",
    "#idA = bytes(user_A.id.to_bytes(ID_SIZE, byteorder=\"little\"))\n",
    "#idA = bytes(user_A.id.to_bytes(ID_SIZE, byteorder=\"big\"))\n",
    "print(user_A.id)\n",
    "\n",
    "\n",
    "\n",
    "#print(idA)\n",
    "#print(hex(user_A.id))"
   ]
  },
  {
   "cell_type": "code",
   "execution_count": null,
   "metadata": {},
   "outputs": [],
   "source": [
    "#TEST\n",
    "digest1 = hashes.Hash(hashes.SHA256(), backend=default_backend())\n",
    "digest2 = hashes.Hash(hashes.SHA256(), backend=default_backend())\n",
    "digest3 = hashes.Hash(hashes.SHA256(), backend=default_backend())\n",
    "digest1.update(b\"abc\")\n",
    "digest1.update(b\"123\")\n",
    "digest2.update(b\"123\")\n",
    "digest3.update(b\"abc123\")\n",
    "\n",
    "print(digest1.finalize())\n",
    "print(digest2.finalize())\n",
    "print(digest3.finalize())\n",
    "\n",
    "print(\"1:\\t\", digest1)\n",
    "print(\"2:\\t\", digest2)\n",
    "print(\"3:\\t\", digest3)\n",
    "    #TODO\n",
    "\n",
    "#Generacja klucza użytkownika A:\n",
    "\n",
    "#user_A.set_private_key(pk)\n",
    "#Generacja klucza użytkownika B:\n",
    "\n",
    "#user_B.set_private_key(pk)"
   ]
  },
  {
   "cell_type": "code",
   "execution_count": null,
   "metadata": {},
   "outputs": [],
   "source": []
  },
  {
   "cell_type": "code",
   "execution_count": null,
   "metadata": {},
   "outputs": [],
   "source": []
  }
 ],
 "metadata": {
  "kernelspec": {
   "display_name": "Python 3",
   "language": "python",
   "name": "python3"
  },
  "language_info": {
   "codemirror_mode": {
    "name": "ipython",
    "version": 3
   },
   "file_extension": ".py",
   "mimetype": "text/x-python",
   "name": "python",
   "nbconvert_exporter": "python",
   "pygments_lexer": "ipython3",
   "version": "3.6.1"
  }
 },
 "nbformat": 4,
 "nbformat_minor": 2
}
