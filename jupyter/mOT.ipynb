{
 "cells": [
  {
   "cell_type": "markdown",
   "metadata": {},
   "source": [
    "# Okamoto-Tanaka Revisited protocol\n"
   ]
  },
  {
   "cell_type": "code",
   "execution_count": 1,
   "metadata": {},
   "outputs": [
    {
     "name": "stdout",
     "output_type": "stream",
     "text": [
      "3.5.3 (default, Sep 27 2018, 17:25:39) \n",
      "[GCC 6.3.0 20170516]\n"
     ]
    }
   ],
   "source": [
    "import sys\n",
    "print(sys.version)"
   ]
  },
  {
   "cell_type": "code",
   "execution_count": 2,
   "metadata": {},
   "outputs": [],
   "source": [
    "import random\n",
    "import os\n",
    "from cryptography.hazmat.primitives.asymmetric import rsa\n",
    "from cryptography.hazmat.backends import default_backend\n",
    "from cryptography.hazmat.primitives import hashes\n",
    "import math\n",
    "\n",
    "KEY_SIZE = 1024\n",
    "H1_EXPONENT_SIZE = 256\n",
    "SESSION_KEY_SIZE = 128\n",
    "EPHEMERAL_EXPONENT_SIZE = 160\n",
    "ID_SIZE = 64\n",
    "ENDIAN = \"little\"\n"
   ]
  },
  {
   "cell_type": "code",
   "execution_count": 3,
   "metadata": {},
   "outputs": [],
   "source": [
    "#dobór funkcji haschującej\n",
    "def select_SHA_context(length_in_bits):\n",
    "    if length_in_bits <= 224:\n",
    "        return hashes.SHA224()\n",
    "    elif length_in_bits <= 256:\n",
    "        return hashes.SHA256()\n",
    "    elif length_in_bits <= 384:\n",
    "        return hashes.SHA384()\n",
    "    elif length_in_bits <= 512:\n",
    "        return hashes.SHA512()\n",
    "    else:\n",
    "        #TODO Exception\n",
    "        print(\"Error, output to big for now\")\n",
    "\n",
    "#hf_KGC = select_SHA_context(H1_EXPONENT_SIZE)\n",
    "#hf_USER = select_SHA_context(SESSION_KEY_SIZE)\n"
   ]
  },
  {
   "cell_type": "code",
   "execution_count": 4,
   "metadata": {},
   "outputs": [
    {
     "name": "stdout",
     "output_type": "stream",
     "text": [
      "(11, 0, 1)\n",
      "(11, 1, 0)\n"
     ]
    }
   ],
   "source": [
    "def eea(_a,_b):\n",
    "    u1 = 1\n",
    "    v1 = 0\n",
    "    u2 = 0\n",
    "    v2 = 1\n",
    "    if _a < 1 or _b < 1:\n",
    "        return \"Error\"\n",
    "    \n",
    "    if _b>_a:\n",
    "        a = _b\n",
    "        b = _a\n",
    "        reverse = False\n",
    "    else:\n",
    "        a = _a\n",
    "        b = _b\n",
    "        reverse  = True\n",
    "    r = _b\n",
    "    while r!=0:\n",
    "        g = r\n",
    "        q = a//b\n",
    "        \n",
    "        r = a - (q*b)   \n",
    "        u = u1 - (q*u2)\n",
    "        v = v1 - (q*v2)\n",
    "        u1 = u2\n",
    "        v1 = v2\n",
    "        u2 = u\n",
    "        v2 = v\n",
    "        \n",
    "        a = b\n",
    "        b = r\n",
    "        \n",
    "        #print(q,r,u,v)\n",
    "    if reverse:\n",
    "        return (a, u1, v1)\n",
    "    else:\n",
    "        return (a,v1,u1)\n",
    "    #return (a,v1,u1)\n",
    "\n",
    "\n",
    "print(eea(77, 11))\n",
    "print(eea(11, 77))\n",
    "#print(eea(62, 7))"
   ]
  },
  {
   "cell_type": "code",
   "execution_count": null,
   "metadata": {},
   "outputs": [],
   "source": []
  },
  {
   "cell_type": "markdown",
   "metadata": {},
   "source": [
    "## Generacja klucza\n",
    "\n"
   ]
  },
  {
   "cell_type": "markdown",
   "metadata": {},
   "source": [
    "### Pseudolosowość"
   ]
  },
  {
   "cell_type": "markdown",
   "metadata": {},
   "source": [
    "#### Generacja liczby pseudolosowej przez system (urandom) - kryptograficznie zalecane:"
   ]
  },
  {
   "cell_type": "code",
   "execution_count": 5,
   "metadata": {},
   "outputs": [],
   "source": [
    "def get_random(num_of_bytes):\n",
    "    return int.from_bytes(os.urandom(num_of_bytes), byteorder='little')\n"
   ]
  },
  {
   "cell_type": "markdown",
   "metadata": {},
   "source": [
    "#### Rozkład x = d * (2^r) \n",
    "Najpierw wyznaczamy rozkład wartości funkcji Eulera dla _modułu klucza RSA_ __KGC__. Chcemy znaleźć takie __t__ oraz __r__, że __x = t * (2^r)__, przy czym __t__ jest nieparzyste."
   ]
  },
  {
   "cell_type": "code",
   "execution_count": 6,
   "metadata": {},
   "outputs": [],
   "source": [
    "#Rozłożenie N-1 = d* (2**r)\n",
    "def mr(number):\n",
    "    t = number\n",
    "    r = 0\n",
    "    while t%2 == 0:\n",
    "    #while math.fmod(d,2) ==0:\n",
    "        t//=2\n",
    "        r+=1\n",
    "    return (t,r)\n"
   ]
  },
  {
   "cell_type": "markdown",
   "metadata": {},
   "source": [
    "#### Test Millera-Rabina"
   ]
  },
  {
   "cell_type": "code",
   "execution_count": 7,
   "metadata": {},
   "outputs": [
    {
     "data": {
      "text/plain": [
       "False"
      ]
     },
     "execution_count": 7,
     "metadata": {},
     "output_type": "execute_result"
    }
   ],
   "source": [
    "def miller_rabin_test(number, security=100):\n",
    "    nm1 = number-1\n",
    "    t,r = mr(nm1)\n",
    "    for i in range(security):\n",
    "        a = 0\n",
    "        while a <2 :\n",
    "            a = get_random(number.bit_length()//8+1)%number\n",
    "        x = pow(a,t,number)\n",
    "        if x != 1 and x != nm1:\n",
    "            pt = False\n",
    "            for j in range(r):\n",
    "                x = pow(x,2,number)\n",
    "                if x == nm1:\n",
    "                    pt = True\n",
    "                    break\n",
    "            if pt == False:\n",
    "                #witness\n",
    "                #print(a, t,r)\n",
    "                return False\n",
    "    return True\n",
    "    \n",
    "miller_rabin_test(21,100)"
   ]
  },
  {
   "cell_type": "markdown",
   "metadata": {},
   "source": [
    "#### Bezpieczne liczby pierwsze:"
   ]
  },
  {
   "cell_type": "code",
   "execution_count": 8,
   "metadata": {},
   "outputs": [],
   "source": [
    "def get_secure_prime(num_of_bytes, security_level):\n",
    "    failure_counter = 0\n",
    "    next_failure_jump = 4\n",
    "    success = False\n",
    "    while success == False:\n",
    "        p1 = get_random(num_of_bytes//2)\n",
    "        if p1 % 2 == 0:\n",
    "            p1 += 1\n",
    "        if miller_rabin_test(p1, security_level) and miller_rabin_test((2*p1)+1, security_level):\n",
    "            return (2*p1)+1\n",
    "        else:\n",
    "            failure_counter +=1\n",
    "            if failure_counter >= next_failure_jump:\n",
    "                security_level+=1\n",
    "                next_failure_jump*=2\n",
    "#p = get_secure_prime(64, 100)\n",
    "#q = get_secure_prime(64, 100)\n",
    "\n",
    "#print(p)\n",
    "#print(q)\n",
    "        "
   ]
  },
  {
   "cell_type": "markdown",
   "metadata": {},
   "source": [
    "### Klasa KGC:"
   ]
  },
  {
   "cell_type": "code",
   "execution_count": 9,
   "metadata": {},
   "outputs": [],
   "source": [
    "class KGC_key_public:\n",
    "    def __init__(self, N, e, QRN_generator, h1sf, h2f, key_size):\n",
    "        self.N = N\n",
    "        self.e = e\n",
    "        self.QRN_generator = QRN_generator\n",
    "        self.h1sf = h1sf\n",
    "        self.h2f = h2f\n",
    "        self.key_size = key_size\n",
    "\n",
    "class KGC_key:\n",
    "    def __init__(self, h1sf, h2f,key_size = KEY_SIZE):\n",
    "        \n",
    "        #rsa_key = rsa.generate_private_key(\n",
    "        #    public_exponent=65537,\n",
    "        #    key_size = key_size,\n",
    "        #    backend = default_backend()\n",
    "        #)\n",
    "        self.key_size = key_size\n",
    "        #self.N = rsa_key.public_key().public_numbers().n\n",
    "        #self.e = rsa_key.public_key().public_numbers().e\n",
    "        #self.d = rsa_key.private_numbers().d\n",
    "        #self.p = rsa_key.private_numbers().p\n",
    "        #self.q = rsa_key.private_numbers().q\n",
    "        self.p = get_secure_prime(key_size//16, 100)\n",
    "        self.q = get_secure_prime(key_size//16, 100)\n",
    "        self.N = self.p*self.q\n",
    "        self.e = 65537\n",
    "        \n",
    "        self.Phi = (self.p-1)*(self.q-1)\n",
    "        \n",
    "        self.d = eea(self.Phi, self.e)[2]\n",
    "        while self.d < 0:\n",
    "            self.d += self.Phi#\n",
    "        #print(\"Phi:\\t\", self.Phi)\n",
    "        #print(\"e:\\t\", self.e)\n",
    "        #print(\"d:\\t\", self.d)\n",
    "        #print(\"N:\\t\", self.N)\n",
    "        #print(\"eea:\\t\",eea(self.Phi, self.e))\n",
    "        #print(\"p:\\t\", self.p)\n",
    "        #print(\"q:\\t\", self.q)\n",
    "        self.h1sf = h1sf # część funkcji hashującej H (wynik całej H musi być w QRN)\n",
    "        self.h2f = h2f #druga funkcja hashująca jest w całości\n",
    "    def set_QRN_generator(self, generator):\n",
    "        self.QRN_generator = generator\n",
    "    def public(self):\n",
    "        #return (self.N,self.e,self.generator, self.h1sf, self.h2f)\n",
    "        return KGC_key_public(self.N, self.e, self.QRN_generator, self.h1sf, self.h2f, self.key_size)\n",
    "    # d,Phi - traktować jak prywatne\n",
    "\n",
    "hash1_subfunction = select_SHA_context(H1_EXPONENT_SIZE)\n",
    "hash2_function = select_SHA_context(SESSION_KEY_SIZE)\n",
    "    \n",
    "\n",
    "        "
   ]
  },
  {
   "cell_type": "code",
   "execution_count": null,
   "metadata": {},
   "outputs": [],
   "source": []
  },
  {
   "cell_type": "code",
   "execution_count": 10,
   "metadata": {},
   "outputs": [],
   "source": [
    "def hashH1(material, kgc_public, endian = ENDIAN, id_size = ID_SIZE):\n",
    "    #DEBUG_START\n",
    "    print(\"hashH1: number to hash\")\n",
    "    print('{:08x}'.format(material))\n",
    "    material = material.to_bytes(id_size//8, endian)\n",
    "    #tp = [ord(material[i]) for i in range(material)]\n",
    "    print(\"hashH1: bytes to hash:\")\n",
    "    print(material.hex())\n",
    "    #print(tp)\n",
    "    \n",
    "    \n",
    "    context = hashes.Hash(kgc_public.h1sf, backend=default_backend()) \n",
    "    context.update(material)\n",
    "    hash_result = context.finalize()\n",
    "    #exponent = int.from_bytes(hash_result, byteorder = endian)\n",
    "    #print('Hash result:')\n",
    "    #print (hash_result.hex())\n",
    "    #print ('{:032x}'.format(exponent))\n",
    "    h_result = int.from_bytes(hash_result, byteorder = endian)\n",
    "    print('h_result:\\t','{:032x}'.format(h_result))\n",
    "    #DEBUG_END\n",
    "    #hsh = pow(kgc_public.QRN_generator, exponent, kgc_public.N)\n",
    "    hsh = pow(h_result, 2, kgc_public.N)\n",
    "    print('hsh1:\\t','{:032x}'.format(hsh))\n",
    "    return hsh\n"
   ]
  },
  {
   "cell_type": "markdown",
   "metadata": {},
   "source": [
    "### Generacja kluczy uczestników mOT\n",
    "#### Znalezienie generatora g grupy reszt kwadratowych mod N\n",
    "Chcemy znaleźć generator podgrupy reszt kwadratowych w grupue Z_N. Oczekujemy, że grupa reszt będzie odpowiednio duża. Podgrupę będziemy oznaczać __QRN__ (analogicznie do oznaczenia w pracy Gannaro-Krawczyka-Rabina), generator będzie oznaczany __g__.\n",
    "___\n"
   ]
  },
  {
   "cell_type": "code",
   "execution_count": null,
   "metadata": {},
   "outputs": [],
   "source": []
  },
  {
   "cell_type": "code",
   "execution_count": null,
   "metadata": {},
   "outputs": [],
   "source": [
    "\n",
    "\n"
   ]
  },
  {
   "cell_type": "markdown",
   "metadata": {},
   "source": [
    "##### Wyznaczenie generatora g grupy QR_N\n",
    "W celu wygenerowania akceptowalnego g losujemy pewnwe __alpha__ i sprawdzamy czy generuje podgrupę o satysfakcjonująco dużym rzędzie. Załóżmy tutaj, że zadowala nas jeżeli __alpha__ podniesione do potęgi t modulo N jest różne od 1.\n",
    "W dalszej części podnosilibyśmy do kwadratu maksymalnie r razy. Jeżeli __alpha__ nie spełnia oczekiwań losujemy je ponownie i powtarzamy procedurę.  \n",
    "_W przyszłości rozważyć szukanie większych podgrup (podnieść kilka razy do kwadratu i sprawdzić po ilu podniesieniach jest 1)._"
   ]
  },
  {
   "cell_type": "markdown",
   "metadata": {},
   "source": [
    "### Tworzenie KGC\n",
    "Tworzymy instancje KGC upewniając się, że parametry są poprawne i bezpieczne\n"
   ]
  },
  {
   "cell_type": "code",
   "execution_count": 11,
   "metadata": {},
   "outputs": [
    {
     "name": "stdout",
     "output_type": "stream",
     "text": [
      "1ec5a8a6dbc7e49aecc72b3c2ad9b18106685b36b1d9dbd4b965fcb583cc457d450c42292100bb79b518302c626b9add102b664b551552558f7eb844d43c88e79\n",
      "00000000000000000000000000000000000000000000000000000000000000000000000000000000000000000000000000000000000000000000000000010001\n",
      "896f84b0b92b2f7a41cbcaee0ef3fa35a9c8ac9abbfbaa398d52543adf4b978ffe6f5be5736cff42d52171d212cd8acf2eafc6970d08fb1a8382ba7535070579\n",
      "0x1ec5a8a6dbc7e49aecc72b3c2ad9b18106685b36b1d9dbd4b965fcb583cc457d450c42292100bb79b518302c626b9add102b664b551552558f7eb844d43c88e79\n",
      "2\n"
     ]
    }
   ],
   "source": [
    "def valid_kgc():  \n",
    "    kgc = KGC_key(hash1_subfunction, hash2_function)\n",
    "    print('{:0128x}'.format(kgc.N))\n",
    "    print('{:0128x}'.format(kgc.e))\n",
    "    print('{:0128x}'.format(kgc.d))\n",
    "    print(hex(kgc.N))\n",
    "    return kgc\n",
    "kgc01 = valid_kgc()\n",
    "#(t,r) = mr(kgc01.Phi)\n",
    "\n",
    "#print (kgc01.p-1//2)\n",
    "#print (kgc01.q-1//2)\n",
    "#rp1 = mr(kgc01.p-1)\n",
    "#rp2 = mr(kgc01.q-1)\n",
    "#print('rp1\\t', rp1)\n",
    "#print('rp2\\t', rp2)\n",
    "\n",
    "#print(t,r)\n",
    "print(pow(pow(2,kgc01.e,kgc01.N),kgc01.d, kgc01.N))\n",
    "#print(t*(2**r))\n",
    "#print(t,r)"
   ]
  },
  {
   "cell_type": "code",
   "execution_count": null,
   "metadata": {},
   "outputs": [],
   "source": []
  },
  {
   "cell_type": "code",
   "execution_count": 12,
   "metadata": {},
   "outputs": [
    {
     "name": "stdout",
     "output_type": "stream",
     "text": [
      "19870028284302614183232530348781207148787604351266863390415756544348631306520378174988560917286775560824052014596779604934974591652276213637657244107338123 23790913230799375230386300365468513446386384424978598728039132250901587576580902366898571836546874966835766031234996815733820373671116881002865735193065790\n",
      "0x17a5488ac23ba6e67f19e590561add33cd2033dd24f84d3aba8b1d9a82633ff1821e4ad5af19e6a52e8620021cca136238ee9f256b9e150b4b6d020c880f76e75\n"
     ]
    }
   ],
   "source": [
    "#generator grupy Z_N: Znaleźć alpha że g = alpha**2 jest generatorem dużej podgrupy (reszt kwadratowych)\n",
    "cont = True\n",
    "(t,r) = mr(kgc01.Phi)\n",
    "while cont == True:\n",
    "    alpha = random.randint(1,kgc01.N)\n",
    "    #print (pow(alpha, Phi, N))\n",
    "    beta = pow(alpha,t,kgc01.N)\n",
    "    print (beta, alpha)\n",
    "    if  beta != 1:\n",
    "        cont = False\n",
    "        #print (\"alpha jest generatorem dużej podgrupy\")\n",
    "    \n",
    "g = pow(alpha,2,kgc01.N)\n",
    "kgc01.set_QRN_generator(g)\n",
    "#print (pow(kgc01.QRN_generator, kgc01.Phi, kgc01.N))\n",
    "print(hex(g))"
   ]
  },
  {
   "cell_type": "markdown",
   "metadata": {},
   "source": [
    "#### Klasa użytkowników"
   ]
  },
  {
   "cell_type": "code",
   "execution_count": 13,
   "metadata": {},
   "outputs": [],
   "source": [
    "#Użytkownik\n",
    "class User:\n",
    "    def __init__(self,name,user_id):\n",
    "        self.name = name\n",
    "        self.id = user_id #user_id.to_bytes(ID_SIZE//8, byteorder=ENDIAN)\n",
    "        #self.idn = int.from_bytes(self.id, byteorder=ENDIAN)\n",
    "        \n",
    "    def set_private_key(self,key, endian = ENDIAN):\n",
    "        self.private_key = key\n",
    "        #self.private_key_n = int.from_bytes(key, endian)\n",
    "    def generate_ephemeral_exponent(self, ephemeral_exponent_size = EPHEMERAL_EXPONENT_SIZE):\n",
    "        self.ephemeral_exponent = random.randint(2**(ephemeral_exponent_size//4),2**(ephemeral_exponent_size))\n",
    "    def calculate_shared_secred(self, msg, id_corr, kgc_public, endian = ENDIAN):\n",
    "        #print(\"id_corr\", id_corr)\n",
    "        #hsh = hashH1(corr_idn.to_bytes(kgc_public.key_size//8, endian), kgc_public)\n",
    "        hsh = hashH1(id_corr, kgc_public)\n",
    "        rev_hsh = eea(kgc_public.N, hsh)[2]\n",
    "        \n",
    "        print(\"with reversing hsh:\", hsh*rev_hsh%kgc_public.N)\n",
    "        \n",
    "        \n",
    "        \n",
    "        #msgn = int.from_bytes(msg,endian)\n",
    "        #msgn_e = pow(msgn, kgc_public.e, kgc_public.N)\n",
    "        msgn_e = pow(msg, kgc_public.e, kgc_public.N)\n",
    "        \n",
    "        t = (msgn_e * rev_hsh)%kgc_public.N\n",
    "        K = pow(t, 2*self.ephemeral_exponent, kgc_public.N)\n",
    "        \n",
    "        return K\n",
    "        \n",
    "        \n",
    "    \n",
    "user_A = User(\"A\",random.randint(1,2**ID_SIZE))\n",
    "user_B = User(\"B\",random.randint(1,2**ID_SIZE))"
   ]
  },
  {
   "cell_type": "markdown",
   "metadata": {},
   "source": [
    "#### Generacja kluczy prywatnych uczestników mOT."
   ]
  },
  {
   "cell_type": "code",
   "execution_count": 19,
   "metadata": {},
   "outputs": [
    {
     "name": "stdout",
     "output_type": "stream",
     "text": [
      "hashH1: number to hash\n",
      "e1c64d683b3d1608\n",
      "hashH1: bytes to hash:\n",
      "08163d3b684dc6e1\n",
      "h_result:\t 48e4d44aee976a0fae0c95e84edb978c7705d02f71f17bf8c5a4e3ccf36d396b\n",
      "hsh1:\t 14c183f4fbba5a77536646d69bc71ffb51bbed8f31c72e34f5d56bb94d562f83671a3bdee843e47e1938791cc43776bc6957357142352b68d077ce2313fed2b9\n",
      "hsh:\t 0x14c183f4fbba5a77536646d69bc71ffb51bbed8f31c72e34f5d56bb94d562f83671a3bdee843e47e1938791cc43776bc6957357142352b68d077ce2313fed2b9\n",
      "hashH1: number to hash\n",
      "369a67a06023f73\n",
      "hashH1: bytes to hash:\n",
      "733f02067aa66903\n",
      "h_result:\t 25b77ca3f2e18706ed2cf208d7ea6c85b796295b6f9ea101e6d0fb286f0f8223\n",
      "hsh1:\t 58e8d8ad349abc0b8e5e6c5e2916de368c54830378465fb67a819405cd322b5b3292f1bcc35f18fc7cdc20722dc1d04079944c91cafb17bab17c0badc4190c9\n",
      "hsh:\t 0x58e8d8ad349abc0b8e5e6c5e2916de368c54830378465fb67a819405cd322b5b3292f1bcc35f18fc7cdc20722dc1d04079944c91cafb17bab17c0badc4190c9\n",
      "22443494805286993332301134256504250596371720612107728376003023705996711658284878654913008521464124849837149533598854069337931566255538358038263263213404625\n",
      "1ac858477706da297879d3a20674f19a8349b3866cd68d617ca548f756688ef6be305092c72512a7f51230038e063743b4efe9a60bd5af4b5fa7d820b34e041d1\n",
      "UserA:\t 0xe1c64d683b3d1608 0x1ac858477706da297879d3a20674f19a8349b3866cd68d617ca548f756688ef6be305092c72512a7f51230038e063743b4efe9a60bd5af4b5fa7d820b34e041d1\n",
      "UserB:\t 0x369a67a06023f73 0x2662572b7f35be2bbaea07739202c545580561e72f03a8e9a150196f9042449c878bf79f6dc5d4af2424739349d2155e77d9bc7f2d0d466bab4871c8c625e271\n"
     ]
    }
   ],
   "source": [
    "# funkcja hashująca do grupy reszt kwadratowych\n",
    "def generate_user_ltk(kgc, user_id, endian = ENDIAN):\n",
    "    #context = hashes.Hash(kgc.h1sf, backend=default_backend()) \n",
    "    #context.update(material)\n",
    "    #exponent = int.from_bytes(context.finalize(), byteorder = endian)\n",
    "    #sk = pow(kgc.QRN_generator, exponent, kgc01.N)\n",
    "    hsh = hashH1(user_id, kgc.public(), endian)\n",
    "    print('hsh:\\t', hex(hsh))\n",
    "    return pow(hsh, kgc.d, kgc.N)\n",
    "\n",
    "user_A.set_private_key(generate_user_ltk(kgc01, user_A.id))\n",
    "user_B.set_private_key(generate_user_ltk(kgc01, user_B.id))\n",
    "print((user_A.private_key))\n",
    "print('{:08x}'.format(user_A.private_key))\n",
    "print('UserA:\\t', hex(user_A.id), hex(user_A.private_key))\n",
    "print('UserB:\\t', hex(user_B.id), hex(user_B.private_key))\n",
    "\n",
    "    \n",
    "\n",
    "    "
   ]
  },
  {
   "cell_type": "markdown",
   "metadata": {},
   "source": [
    "##### Weryfikacja klucza "
   ]
  },
  {
   "cell_type": "code",
   "execution_count": 15,
   "metadata": {},
   "outputs": [
    {
     "name": "stdout",
     "output_type": "stream",
     "text": [
      "False\n",
      "1087075724470195959056460167064605820892560535114692659208750390115173876449372669898761032556473418708012744266862721066524464026545873381670827585360569 \n",
      " 24873216778430282312832068229046938207305497806223461144499873880927626390160422118848239783083859439665048892317399704758923702096557819619420217045574043\n"
     ]
    }
   ],
   "source": [
    "usk = user_A.private_key\n",
    "usk_pow_e = pow(usk,kgc01.e,kgc01.N)\n",
    "#usk_pow_e = usk\n",
    "hash_context = hashes.Hash(select_SHA_context(H1_EXPONENT_SIZE), backend=default_backend()) \n",
    "hash_context.update(user_A.id.to_bytes(ID_SIZE, byteorder = ENDIAN))\n",
    "exponent = int.from_bytes(hash_context.finalize(), byteorder = ENDIAN)\n",
    "sk_pre_d = pow(kgc01.QRN_generator, exponent, kgc01.public().N)\n",
    "print ( sk_pre_d == usk_pow_e)\n",
    "if(sk_pre_d != usk_pow_e):\n",
    "    print (usk_pow_e,\"\\n\", sk_pre_d )\n",
    "    \n",
    "\n",
    "\n"
   ]
  },
  {
   "cell_type": "markdown",
   "metadata": {},
   "source": [
    "## Przebieg sesji\n",
    "\n",
    "### Generacja wiadomości\n"
   ]
  },
  {
   "cell_type": "code",
   "execution_count": 16,
   "metadata": {},
   "outputs": [
    {
     "name": "stdout",
     "output_type": "stream",
     "text": [
      "16268775813988292104\n"
     ]
    }
   ],
   "source": [
    "\n",
    "def generate_negotiation_message(user, kgc_public, endian = ENDIAN):\n",
    "    g_p = pow(kgc_public.QRN_generator, user.ephemeral_exponent, kgc_public.N)\n",
    "    return ((g_p*user.private_key)%kgc_public.N)\n",
    "    \n",
    "\n",
    "user_A.generate_ephemeral_exponent()\n",
    "user_B.generate_ephemeral_exponent()\n",
    "\n",
    "msg_A = generate_negotiation_message(user_A,kgc01.public())\n",
    "msg_B = generate_negotiation_message(user_B,kgc01.public())\n",
    "\n",
    "#print(msg_A)\n",
    "\n",
    "    \n",
    "\n",
    "#idA = bytes(user_A.id.to_bytes(ID_SIZE, byteorder=\"little\"))\n",
    "#idA = bytes(user_A.id.to_bytes(ID_SIZE, byteorder=\"big\"))\n",
    "print(user_A.id)\n",
    "\n",
    "\n",
    "\n",
    "#print(idA)\n",
    "#print(hex(user_A.id))"
   ]
  },
  {
   "cell_type": "code",
   "execution_count": 17,
   "metadata": {
    "scrolled": true
   },
   "outputs": [
    {
     "name": "stdout",
     "output_type": "stream",
     "text": [
      "hashH1: number to hash\n",
      "369a67a06023f73\n",
      "hashH1: bytes to hash:\n",
      "733f02067aa66903\n",
      "h_result:\t 25b77ca3f2e18706ed2cf208d7ea6c85b796295b6f9ea101e6d0fb286f0f8223\n",
      "hsh1:\t 58e8d8ad349abc0b8e5e6c5e2916de368c54830378465fb67a819405cd322b5b3292f1bcc35f18fc7cdc20722dc1d04079944c91cafb17bab17c0badc4190c9\n",
      "with reversing hsh: 1\n",
      "hashH1: number to hash\n",
      "e1c64d683b3d1608\n",
      "hashH1: bytes to hash:\n",
      "08163d3b684dc6e1\n",
      "h_result:\t 48e4d44aee976a0fae0c95e84edb978c7705d02f71f17bf8c5a4e3ccf36d396b\n",
      "hsh1:\t 14c183f4fbba5a77536646d69bc71ffb51bbed8f31c72e34f5d56bb94d562f83671a3bdee843e47e1938791cc43776bc6957357142352b68d077ce2313fed2b9\n",
      "with reversing hsh: 1\n",
      "k=\t 5515079257199652631919033794534636850679822613239377817531933168224397948332139796362805281163555549638151550799771034734122051730290507536174787264609402\n",
      "k_A=\t 5515079257199652631919033794534636850679822613239377817531933168224397948332139796362805281163555549638151550799771034734122051730290507536174787264609402\n",
      "k_B=\t 5515079257199652631919033794534636850679822613239377817531933168224397948332139796362805281163555549638151550799771034734122051730290507536174787264609402\n",
      "hashH1: number to hash\n",
      "369a67a06023f73\n",
      "hashH1: bytes to hash:\n",
      "733f02067aa66903\n",
      "h_result:\t 25b77ca3f2e18706ed2cf208d7ea6c85b796295b6f9ea101e6d0fb286f0f8223\n",
      "hsh1:\t 58e8d8ad349abc0b8e5e6c5e2916de368c54830378465fb67a819405cd322b5b3292f1bcc35f18fc7cdc20722dc1d04079944c91cafb17bab17c0badc4190c9\n",
      "k1a =\t 12851732788147472949727817165685015081735265532523271841100311468385967476342050743022262832301774639763141384591601515945671479463149032439970472583478568\n",
      "k2a =\t -5448908240143482603256510239932713283106372008569541511611203014740797610019437671292119862289294730948576043803812862899647119698107420550502705538367373\n",
      "k3a =\t 6141153449472275086902337091067910549200840712187886419665885839759966198257580947340014546279379899630109103819997194372438440469165504917206352677119706\n",
      "k4a =\t 5515079257199652631919033794534636850679822613239377817531933168224397948332139796362805281163555549638151550799771034734122051730290507536174787264609402\n"
     ]
    }
   ],
   "source": [
    "k_A = user_A.calculate_shared_secred(msg_B, user_B.id, kgc01.public())\n",
    "k_B = user_B.calculate_shared_secred(msg_A, user_A.id, kgc01.public())\n",
    "\n",
    "k = pow(kgc01.QRN_generator,2*user_A.ephemeral_exponent*user_B.ephemeral_exponent*kgc01.e, kgc01.N)\n",
    "#print (kgc01.QRN_generator)\n",
    "print(\"k=\\t\", k)\n",
    "print(\"k_A=\\t\", k_A)\n",
    "print(\"k_B=\\t\", k_B)\n",
    "\n",
    "k1a = pow(msg_B, kgc01.e, kgc01.N)\n",
    "k2a = eea(kgc01.N,hashH1(user_B.id, kgc01.public()))[2]\n",
    "k3a = k1a*k2a%kgc01.N\n",
    "k4a = pow(k3a, 2*user_A.ephemeral_exponent, kgc01.N)\n",
    "print(\"k1a =\\t\", k1a)\n",
    "print(\"k2a =\\t\", k2a)\n",
    "print(\"k3a =\\t\", k3a)\n",
    "print(\"k4a =\\t\", k4a)\n",
    "\n"
   ]
  },
  {
   "cell_type": "code",
   "execution_count": null,
   "metadata": {},
   "outputs": [],
   "source": []
  },
  {
   "cell_type": "code",
   "execution_count": null,
   "metadata": {},
   "outputs": [],
   "source": []
  },
  {
   "cell_type": "code",
   "execution_count": null,
   "metadata": {},
   "outputs": [],
   "source": []
  },
  {
   "cell_type": "code",
   "execution_count": null,
   "metadata": {},
   "outputs": [],
   "source": []
  },
  {
   "cell_type": "code",
   "execution_count": null,
   "metadata": {},
   "outputs": [],
   "source": []
  }
 ],
 "metadata": {
  "kernelspec": {
   "display_name": "py3",
   "language": "python",
   "name": "py3"
  },
  "language_info": {
   "codemirror_mode": {
    "name": "ipython",
    "version": 3
   },
   "file_extension": ".py",
   "mimetype": "text/x-python",
   "name": "python",
   "nbconvert_exporter": "python",
   "pygments_lexer": "ipython3",
   "version": "3.5.3"
  }
 },
 "nbformat": 4,
 "nbformat_minor": 2
}
