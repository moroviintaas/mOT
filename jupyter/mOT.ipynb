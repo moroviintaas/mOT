{
 "cells": [
  {
   "cell_type": "markdown",
   "metadata": {},
   "source": [
    "# Okamoto-Tanaka Revisited protocol\n"
   ]
  },
  {
   "cell_type": "code",
   "execution_count": 1,
   "metadata": {},
   "outputs": [],
   "source": [
    "import random\n",
    "from cryptography.hazmat.primitives.asymmetric import rsa\n",
    "from cryptography.hazmat.backends import default_backend\n",
    "from cryptography.hazmat.primitives import hashes\n",
    "import math\n",
    "\n",
    "KEY_SIZE = 512\n",
    "H1_EXPONENT_SIZE = 256\n",
    "SESSION_KEY_SIZE = 128\n",
    "EPHEMERAL_EXPONENT_SIZE = 256\n",
    "ID_SIZE = 256\n",
    "ENDIAN = \"little\"\n"
   ]
  },
  {
   "cell_type": "code",
   "execution_count": 2,
   "metadata": {},
   "outputs": [],
   "source": [
    "#dobór funkcji haschującej\n",
    "def select_SHA_context(length_in_bits):\n",
    "    if length_in_bits <= 224:\n",
    "        return hashes.SHA224()\n",
    "    elif length_in_bits <= 256:\n",
    "        return hashes.SHA256()\n",
    "    elif length_in_bits <= 384:\n",
    "        return hashes.SHA384()\n",
    "    elif length_in_bits <= 512:\n",
    "        return hashes.SHA512()\n",
    "    else:\n",
    "        #TODO Exception\n",
    "        print(\"Error, output to big for now\")\n",
    "\n",
    "#hf_KGC = select_SHA_context(H1_EXPONENT_SIZE)\n",
    "#hf_USER = select_SHA_context(SESSION_KEY_SIZE)\n"
   ]
  },
  {
   "cell_type": "code",
   "execution_count": 3,
   "metadata": {},
   "outputs": [],
   "source": [
    "def eea(_a,_b):\n",
    "    u1 = 1\n",
    "    v1 = 0\n",
    "    u2 = 0\n",
    "    v2 = 1\n",
    "    if _a < 1 or _b < 1:\n",
    "        return \"Error\"\n",
    "    \n",
    "    if _b>_a:\n",
    "        a = _b\n",
    "        b = _a\n",
    "    else:\n",
    "        a = _a\n",
    "        b = _b\n",
    "    r = _b\n",
    "    while r!=0:\n",
    "        g = r\n",
    "        q = a//b\n",
    "        \n",
    "        r = a - (q*b)   \n",
    "        u = u1 - (q*u2)\n",
    "        v = v1 - (q*v2)\n",
    "        u1 = u2\n",
    "        v1 = v2\n",
    "        u2 = u\n",
    "        v2 = v\n",
    "        \n",
    "        a = b\n",
    "        b = r\n",
    "        \n",
    "        #print(q,r,u,v)\n",
    "    return (a, u1, v1)\n",
    "\n",
    "#print(eea(77, 11))\n",
    "#print(eea(62, 7))"
   ]
  },
  {
   "cell_type": "code",
   "execution_count": null,
   "metadata": {},
   "outputs": [],
   "source": []
  },
  {
   "cell_type": "markdown",
   "metadata": {},
   "source": [
    "## Generacja klucza\n",
    "\n",
    "### Generacja klucza RSA dla KGC:"
   ]
  },
  {
   "cell_type": "code",
   "execution_count": 4,
   "metadata": {},
   "outputs": [],
   "source": [
    "class KGC_key_public:\n",
    "    def __init__(self, N, e, QRN_generator, h1sf, h2f, key_size):\n",
    "        self.N = N\n",
    "        self.e = e\n",
    "        self.QRN_generator = QRN_generator\n",
    "        self.h1sf = h1sf\n",
    "        self.h2f = h2f\n",
    "        self.key_size = key_size\n",
    "\n",
    "class KGC_key:\n",
    "    def __init__(self, h1sf, h2f,key_size = KEY_SIZE):\n",
    "        \n",
    "        rsa_key = rsa.generate_private_key(\n",
    "            public_exponent=65537,\n",
    "            key_size = key_size,\n",
    "            backend = default_backend()\n",
    "        )\n",
    "        self.key_size = key_size\n",
    "        self.N = rsa_key.public_key().public_numbers().n\n",
    "        self.e = rsa_key.public_key().public_numbers().e\n",
    "        self.d = rsa_key.private_numbers().d\n",
    "        p = rsa_key.private_numbers().p\n",
    "        q = rsa_key.private_numbers().q\n",
    "        self.Phi = (p-1)*(q-1)\n",
    "        self.h1sf = h1sf # część funkcji hashującej H (wynik całej H musi być w QRN)\n",
    "        self.h2f = h2f #druga funkcja hashująca jest w całości\n",
    "    def set_QRN_generator(self, generator):\n",
    "        self.QRN_generator = generator\n",
    "    def public(self):\n",
    "        #return (self.N,self.e,self.generator, self.h1sf, self.h2f)\n",
    "        return KGC_key_public(self.N, self.e, self.QRN_generator, self.h1sf, self.h2f, self.key_size)\n",
    "    # d,Phi - traktować jak prywatne\n",
    "\n",
    "hash1_subfunction = select_SHA_context(H1_EXPONENT_SIZE)\n",
    "hash2_function = select_SHA_context(SESSION_KEY_SIZE)\n",
    "    \n",
    "kgc01 = KGC_key(hash1_subfunction, hash2_function)\n",
    "        "
   ]
  },
  {
   "cell_type": "code",
   "execution_count": 5,
   "metadata": {},
   "outputs": [],
   "source": [
    "def hashH1(material, kgc_public, endian = ENDIAN):\n",
    "    context = hashes.Hash(kgc_public.h1sf, backend=default_backend()) \n",
    "    context.update(material)\n",
    "    exponent = int.from_bytes(context.finalize(), byteorder = endian)\n",
    "    hsh = pow(kgc_public.QRN_generator, exponent, kgc_public.N)\n",
    "    return hsh\n"
   ]
  },
  {
   "cell_type": "markdown",
   "metadata": {},
   "source": [
    "### Generacja kluczy uczestników mOT\n",
    "#### Znalezienie generatora g grupy reszt kwadratowych mod N\n",
    "Chcemy znaleźć generator podgrupy reszt kwadratowych w grupue Z_N. Oczekujemy, że grupa reszt będzie odpowiednio duża. Podgrupę będziemy oznaczać __QRN__ (analogicznie do oznaczenia w pracy Gannaro-Krawczyka-Rabina), generator będzie oznaczany __g__.\n",
    "___\n",
    "##### Rozkład Phi = d * (2^r) \n",
    "Najpierw wyznaczamy rozkład wartości funkcji Eulera dla _modułu klucza RSA_ __KGC__. Chcemy znaleźć takie __t__ oraz __r__, że __Phi = t * (2^r)__, przy czym __t__ jest nieparzyste."
   ]
  },
  {
   "cell_type": "code",
   "execution_count": null,
   "metadata": {},
   "outputs": [],
   "source": []
  },
  {
   "cell_type": "code",
   "execution_count": 6,
   "metadata": {},
   "outputs": [
    {
     "name": "stdout",
     "output_type": "stream",
     "text": [
      "1303112306350906080995099017537534867234216748228433335406258385015439074423732834087369450263757054486708349072567162278730650978565549944457529052229207 3\n",
      "10424898450807248647960792140300278937873733985827466683250067080123512595389862672698955602110056435893666792580537298229845207828524399555660232417833656\n"
     ]
    }
   ],
   "source": [
    "#Rozłożenie N-1 = d* (2**r)\n",
    "def mr(number):\n",
    "    t = number\n",
    "    r = 0\n",
    "    while t%2 == 0:\n",
    "    #while math.fmod(d,2) ==0:\n",
    "        t//=2\n",
    "        r+=1\n",
    "    return (t,r)\n",
    "\n",
    "(t,r) = mr(kgc01.Phi)\n",
    "print(t,r)\n",
    "print(t*(2**r))\n"
   ]
  },
  {
   "cell_type": "markdown",
   "metadata": {},
   "source": [
    "##### Wyznaczenie generatora g grupy QR_N\n",
    "W celu wygenerowania akceptowalnego g losujemy pewnwe __alpha__ i sprawdzamy czy generuje podgrupę o satysfakcjonująco dużym rzędzie. Załóżmy tutaj, że zadowala nas jeżeli __alpha__ podniesione do potęgi t modulo N jest różne od 1.\n",
    "W dalszej części podnosilibyśmy do kwadratu maksymalnie r razy. Jeżeli __alpha__ nie spełnia oczekiwań losujemy je ponownie i powtarzamy procedurę.  \n",
    "_W przyszłości rozważyć szukanie większych podgrup (podnieść kilka razy do kwadratu i sprawdzić po ilu podniesieniach jest 1)._"
   ]
  },
  {
   "cell_type": "code",
   "execution_count": 7,
   "metadata": {},
   "outputs": [
    {
     "name": "stdout",
     "output_type": "stream",
     "text": [
      "1709636145972172425804294904041115825781240473913523312080817708965958578577930757887576306462867632297083810508149849688853287266110031233867033568527139 2396310253904500331824879898349744013996109602522791855327894146579745157271861513904768579542193536691871227969342184664391252880292577120830846680235779\n",
      "1\n"
     ]
    }
   ],
   "source": [
    "#generator grupy Z_N: Znaleźć alpha że g = alpha**2 jest generatorem dużej podgrupy (reszt kwadratowych)\n",
    "cont = True\n",
    "while cont == True:\n",
    "    alpha = random.randint(1,kgc01.N)\n",
    "    #print (pow(alpha, Phi, N))\n",
    "    beta = pow(alpha,t,kgc01.N)\n",
    "    print (beta, alpha)\n",
    "    if  beta != 1:\n",
    "        cont = False\n",
    "        #print (\"alpha jest generatorem dużej podgrupy\")\n",
    "    \n",
    "g = pow(alpha,2,kgc01.N)\n",
    "kgc01.set_QRN_generator(g)\n",
    "print (pow(kgc01.QRN_generator, kgc01.Phi, kgc01.N))"
   ]
  },
  {
   "cell_type": "markdown",
   "metadata": {},
   "source": [
    "#### Klasa użytkowników"
   ]
  },
  {
   "cell_type": "code",
   "execution_count": 8,
   "metadata": {},
   "outputs": [],
   "source": [
    "#Użytkownik\n",
    "class User:\n",
    "    def __init__(self,name,user_id):\n",
    "        self.name = name\n",
    "        self.id = user_id.to_bytes(ID_SIZE//8, byteorder=ENDIAN)\n",
    "        self.idn = int.from_bytes(self.id, byteorder=ENDIAN)\n",
    "        \n",
    "    def set_private_key(self,key, endian = ENDIAN):\n",
    "        self.private_key = key\n",
    "        self.private_key_n = int.from_bytes(key, endian)\n",
    "    def generate_ephemeral_exponent(self, ephemeral_exponent_size = EPHEMERAL_EXPONENT_SIZE):\n",
    "        self.ephemeral_exponent = random.randint(2**(ephemeral_exponent_size//4),2**(ephemeral_exponent_size))\n",
    "    def calculate_shared_secred(self, msg, id_corr, kgc_public, endian = ENDIAN):\n",
    "        #print(\"id_corr\", id_corr)\n",
    "        corr_idn = int.from_bytes(id_corr, endian)\n",
    "        hsh = hashH1(corr_idn.to_bytes(kgc_public.key_size//8, endian), kgc_public)\n",
    "        rev_hsh = eea(kgc_public.N, hsh)[2]\n",
    "        \n",
    "        print(\"with reversing hsh:\", hsh*rev_hsh%kgc_public.N)\n",
    "        \n",
    "        \n",
    "        \n",
    "        msgn = int.from_bytes(msg,endian)\n",
    "        msgn_e = pow(msgn, kgc_public.e, kgc_public.N)\n",
    "        \n",
    "        t = (msgn_e * rev_hsh)%kgc_public.N\n",
    "        K = pow(t, 2*self.ephemeral_exponent, kgc_public.N)\n",
    "        \n",
    "        return K\n",
    "        \n",
    "        \n",
    "    \n",
    "user_A = User(\"A\",random.randint(1,2**ID_SIZE))\n",
    "user_B = User(\"B\",random.randint(1,2**ID_SIZE))"
   ]
  },
  {
   "cell_type": "markdown",
   "metadata": {},
   "source": [
    "#### Generacja kluczy prywatnych uczestników mOT."
   ]
  },
  {
   "cell_type": "code",
   "execution_count": 9,
   "metadata": {},
   "outputs": [
    {
     "name": "stdout",
     "output_type": "stream",
     "text": [
      "b'WL\\x8bKV>\\xa9/|\\xb3r\\xe4\\x93\\x81j\\x95#\\xce-\\xe4\\xbeW\\xda\\x0f\\x7f\\x80S\\xfc\\xf5\\x9f\\xcbM\\x00\\r\\xe3\\x11\\xba\\xa3(\\xef\\xf0\\x81\\xe0Hn\\xb3\\x12$\\xf5\\x83*\\x88\\xef\\xe8\\xe2\\xeb\\x14\\x11i\\x99\\xa4;\\x89e'\n"
     ]
    }
   ],
   "source": [
    "# funkcja hashująca do grupy reszt kwadratowych\n",
    "def generate_user_ltk(kgc, material, length_in_bits = H1_EXPONENT_SIZE, key_size = KEY_SIZE, endian = ENDIAN):\n",
    "    #context = hashes.Hash(kgc.h1sf, backend=default_backend()) \n",
    "    #context.update(material)\n",
    "    #exponent = int.from_bytes(context.finalize(), byteorder = endian)\n",
    "    #sk = pow(kgc.QRN_generator, exponent, kgc01.N)\n",
    "    hsh = hashH1(material, kgc.public(), endian)\n",
    "    return pow(hsh, kgc.d, kgc.N).to_bytes(key_size//8, endian)\n",
    "\n",
    "user_A.set_private_key(generate_user_ltk(kgc01, user_A.id))\n",
    "user_B.set_private_key(generate_user_ltk(kgc01, user_B.id))\n",
    "print(user_A.private_key)\n",
    "    \n",
    "\n",
    "    "
   ]
  },
  {
   "cell_type": "markdown",
   "metadata": {},
   "source": [
    "##### Weryfikacja klucza "
   ]
  },
  {
   "cell_type": "code",
   "execution_count": 10,
   "metadata": {},
   "outputs": [
    {
     "name": "stdout",
     "output_type": "stream",
     "text": [
      "True\n"
     ]
    }
   ],
   "source": [
    "usk = int.from_bytes(user_A.private_key, byteorder = ENDIAN)\n",
    "usk_pow_e = pow(usk,kgc01.e,kgc01.N)\n",
    "hash_context = hashes.Hash(select_SHA_context(H1_EXPONENT_SIZE), backend=default_backend()) \n",
    "hash_context.update(user_A.id)\n",
    "exponent = int.from_bytes(hash_context.finalize(), byteorder = ENDIAN)\n",
    "sk_pre_d = pow(kgc01.QRN_generator, exponent, kgc01.N)\n",
    "print ( sk_pre_d == usk_pow_e)\n",
    "if(sk_pre_d != usk_pow_e):\n",
    "    print (usk_pow_e, sk_pre_d )\n",
    "\n"
   ]
  },
  {
   "cell_type": "markdown",
   "metadata": {},
   "source": [
    "## Przebieg sesji\n",
    "\n",
    "### Generacja wiadomości\n"
   ]
  },
  {
   "cell_type": "code",
   "execution_count": 11,
   "metadata": {},
   "outputs": [
    {
     "name": "stdout",
     "output_type": "stream",
     "text": [
      "b'\\xa0\\xe1\\xd1\\x04\\xca\\x8c\\x1a3H;\\x079\\xed\\xe0\\xe9\\x00\\xd9\\xc1I\\xf4He\\xdc\\xf3\\xd3\\xc5jH\\x8a\\x96\\x96h'\n"
     ]
    }
   ],
   "source": [
    "\n",
    "def generate_negotiation_message(user, kgc_public, endian = ENDIAN):\n",
    "    g_p = pow(kgc_public.QRN_generator, user.ephemeral_exponent, kgc_public.N)\n",
    "    return ((g_p*user.private_key_n)%kgc_public.N).to_bytes(kgc_public.key_size,byteorder = endian)\n",
    "    \n",
    "\n",
    "user_A.generate_ephemeral_exponent()\n",
    "user_B.generate_ephemeral_exponent()\n",
    "\n",
    "msg_A = generate_negotiation_message(user_A,kgc01.public())\n",
    "msg_B = generate_negotiation_message(user_B,kgc01.public())\n",
    "\n",
    "#print(msg_A)\n",
    "\n",
    "    \n",
    "\n",
    "#idA = bytes(user_A.id.to_bytes(ID_SIZE, byteorder=\"little\"))\n",
    "#idA = bytes(user_A.id.to_bytes(ID_SIZE, byteorder=\"big\"))\n",
    "print(user_A.id)\n",
    "\n",
    "\n",
    "\n",
    "#print(idA)\n",
    "#print(hex(user_A.id))"
   ]
  },
  {
   "cell_type": "code",
   "execution_count": 12,
   "metadata": {},
   "outputs": [
    {
     "name": "stdout",
     "output_type": "stream",
     "text": [
      "with reversing hsh: 1\n",
      "with reversing hsh: 1\n",
      "k=\t 6558190767166387817552187434124154347942563104944066544505805087164637740284194931037169838881126951878207332322618367099976314661323488968411025712367546\n",
      "k_A=\t 7741911533651434925119895011939931347574083655790909081057426663596166558836842910262202075216889149773126871558832122577147358846181126821838972658200244\n",
      "k_B=\t 8001621366603344785316829682201491007139016122555732305396978861940835063340663724317639397259193538477063979834211707310042739729826297452983500216786418\n",
      "k1a =\t 9544449005171428681859333521079880554049739685270007309477227800540304079363373221293134917218690950451346448384641272354216632311108835644490869147483962\n",
      "k2a =\t 8560025960675328523022581531845149622769683291052947753011008209770246264878740393153434740614611523054539735463278955541618533275577405606036525705455351\n",
      "k3a =\t 4267111797091500801890485415940097510125015774542417525356750366829089001443973584023089900300581920533634916682981723076263691357973705247816705535514699\n",
      "k4a =\t 6867286240917099338663052104229206141146614324443152620897047725622180083264504082424279937912093202616074728465456638512984672273360680067394902912309720\n"
     ]
    }
   ],
   "source": [
    "k_A = user_A.calculate_shared_secred(msg_B, user_B.id, kgc01.public())\n",
    "k_B = user_B.calculate_shared_secred(msg_A, user_A.id, kgc01.public())\n",
    "\n",
    "k = pow(kgc01.QRN_generator,2*user_A.ephemeral_exponent*user_B.ephemeral_exponent*kgc01.e, kgc01.N)\n",
    "#print (kgc01.QRN_generator)\n",
    "print(\"k=\\t\", k)\n",
    "print(\"k_A=\\t\", k_A)\n",
    "print(\"k_B=\\t\", k_B)\n",
    "\n",
    "k1a = pow(int.from_bytes(msg_B, byteorder = ENDIAN), kgc01.e, kgc01.N)\n",
    "k2a = hashH1(user_B.id, kgc01.public())\n",
    "k3a = k1a*k2a%kgc01.N\n",
    "k4a = pow(k3a, 2*user_A.ephemeral_exponent, kgc01.N)\n",
    "print(\"k1a =\\t\", k1a)\n",
    "print(\"k2a =\\t\", k2a)\n",
    "print(\"k3a =\\t\", k3a)\n",
    "print(\"k4a =\\t\", k4a)\n",
    "\n"
   ]
  },
  {
   "cell_type": "code",
   "execution_count": 13,
   "metadata": {},
   "outputs": [
    {
     "name": "stdout",
     "output_type": "stream",
     "text": [
      "1\n"
     ]
    }
   ],
   "source": [
    "\n",
    "\n",
    "\n",
    "rid_A = eea(kgc01.N,user_A.idn)[2]\n",
    "print((rid_A * user_A.idn)%kgc01.N)"
   ]
  },
  {
   "cell_type": "code",
   "execution_count": 14,
   "metadata": {},
   "outputs": [
    {
     "name": "stdout",
     "output_type": "stream",
     "text": [
      "b'l\\xa1=R\\xcap\\xc8\\x83\\xe0\\xf0\\xbb\\x10\\x1eBZ\\x89\\xe8bM\\xe5\\x1d\\xb2\\xd29%\\x93\\xafj\\x84\\x11\\x80\\x90'\n",
      "b'\\xa6e\\xa4Y B/\\x9dA~Hg\\xef\\xdcO\\xb8\\xa0J\\x1f?\\xff\\x1f\\xa0~\\x99\\x8e\\x86\\xf7\\xf7\\xa2z\\xe3'\n",
      "b'l\\xa1=R\\xcap\\xc8\\x83\\xe0\\xf0\\xbb\\x10\\x1eBZ\\x89\\xe8bM\\xe5\\x1d\\xb2\\xd29%\\x93\\xafj\\x84\\x11\\x80\\x90'\n",
      "1:\t <cryptography.hazmat.primitives.hashes.Hash object at 0x0000017D3B1240F0>\n",
      "2:\t <cryptography.hazmat.primitives.hashes.Hash object at 0x0000017D3B124128>\n",
      "3:\t <cryptography.hazmat.primitives.hashes.Hash object at 0x0000017D3B124240>\n"
     ]
    }
   ],
   "source": [
    "#TEST\n",
    "digest1 = hashes.Hash(hashes.SHA256(), backend=default_backend())\n",
    "digest2 = hashes.Hash(hashes.SHA256(), backend=default_backend())\n",
    "digest3 = hashes.Hash(hashes.SHA256(), backend=default_backend())\n",
    "digest1.update(b\"abc\")\n",
    "digest1.update(b\"123\")\n",
    "digest2.update(b\"123\")\n",
    "digest3.update(b\"abc123\")\n",
    "\n",
    "print(digest1.finalize())\n",
    "print(digest2.finalize())\n",
    "print(digest3.finalize())\n",
    "\n",
    "print(\"1:\\t\", digest1)\n",
    "print(\"2:\\t\", digest2)\n",
    "print(\"3:\\t\", digest3)\n",
    "    #TODO\n",
    "\n",
    "#Generacja klucza użytkownika A:\n",
    "\n",
    "#user_A.set_private_key(pk)\n",
    "#Generacja klucza użytkownika B:\n",
    "\n",
    "#user_B.set_private_key(pk)"
   ]
  },
  {
   "cell_type": "code",
   "execution_count": null,
   "metadata": {},
   "outputs": [],
   "source": []
  },
  {
   "cell_type": "code",
   "execution_count": null,
   "metadata": {},
   "outputs": [],
   "source": []
  }
 ],
 "metadata": {
  "kernelspec": {
   "display_name": "Python 3",
   "language": "python",
   "name": "python3"
  },
  "language_info": {
   "codemirror_mode": {
    "name": "ipython",
    "version": 3
   },
   "file_extension": ".py",
   "mimetype": "text/x-python",
   "name": "python",
   "nbconvert_exporter": "python",
   "pygments_lexer": "ipython3",
   "version": "3.6.1"
  }
 },
 "nbformat": 4,
 "nbformat_minor": 2
}
